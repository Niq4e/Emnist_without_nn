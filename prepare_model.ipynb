{
  "cells": [
    {
      "cell_type": "markdown",
      "id": "eb199a05",
      "metadata": {
        "id": "eb199a05"
      },
      "source": [
        "# Подготовка модели распознавания рукописных букв и цифр\n",
        "\n",
        "Вам предстоит самостоятельно обучить модель для задачи распознавания рукописных букв и цифр с помощью датасета `emnist`. Результатом должна быть обученная модель, сохранённая в файл `model.pkl`.\n",
        "\n",
        "Можете воспользоваться предложенным порядком действий и подсказками из этого ноутбука или подойти к решению задачи самостоятельно и написать всё с нуля. То же касается и процесса упаковки модели в сервис для распознавания самостоятельно написанных символов.\n",
        "\n",
        "В этом ноутбуке комментариями и символами `...` отмечены места для вашего кода.\n",
        "\n",
        "Перед отправкой решения убедитесь, что все ячейки ноутбука выполняются последовательно без ошибок, если запустить `Kernel -> Restart & Run All`.\n",
        "\n",
        "Успехов!\n",
        "\n",
        "### 1. Установите и импортируйте необходимые библиотеки"
      ]
    },
    {
      "cell_type": "code",
      "execution_count": 1,
      "id": "c9b5b5d0",
      "metadata": {},
      "outputs": [],
      "source": [
        "from tqdm.auto import tqdm\n",
        "import optuna"
      ]
    },
    {
      "cell_type": "code",
      "execution_count": 2,
      "id": "0cce8343",
      "metadata": {},
      "outputs": [],
      "source": [
        "from sklearn.model_selection import train_test_split,cross_val_score"
      ]
    },
    {
      "cell_type": "code",
      "execution_count": 3,
      "id": "99ac860b",
      "metadata": {
        "id": "99ac860b"
      },
      "outputs": [],
      "source": [
        "import os\n",
        "import pickle\n",
        "import emnist\n",
        "import pandas as pd\n",
        "from sklearn.metrics import accuracy_score"
      ]
    },
    {
      "cell_type": "code",
      "execution_count": 4,
      "id": "1b10ed41",
      "metadata": {},
      "outputs": [],
      "source": [
        "from sklearn.linear_model import LogisticRegression\n",
        "from sklearn.svm import SVC\n",
        "from sklearn.ensemble import RandomForestClassifier\n",
        "from lightgbm import LGBMClassifier\n",
        "from catboost import CatBoostClassifier\n",
        "from xgboost import XGBClassifier"
      ]
    },
    {
      "cell_type": "code",
      "execution_count": 5,
      "id": "ecc56a88",
      "metadata": {},
      "outputs": [],
      "source": [
        "import numpy as np\n",
        "import matplotlib.pyplot as plt"
      ]
    },
    {
      "cell_type": "markdown",
      "id": "dcf2e1da",
      "metadata": {
        "id": "dcf2e1da"
      },
      "source": [
        "### 2. Загрузите датасет и проанализируйте его\n",
        "\n",
        "Датасет в качестве лейблов (или таргетов) содержит числа от 0 до 46. Каждому числу соответствует ASCII-код некоторого символа. Пары «лейбл — код» хранятся в файле `emnist-balanced-mapping.txt`.\n",
        "Выведите на экран количество семплов в каждом сплите датасета и размер изображений. Также для каждого лейбла выведите соответствующий ему символ и количество тренировочных семплов, приходящееся на него.\n",
        "Посмотрите на несколько примеров изображений.\n",
        "\n",
        "_Подсказка: чтобы получить символ из ASCII-кода, нужно воспользоваться функцией_ `chr()`. _Для вашего удобства можно построить словарь_ (`dict`) _соответствий._"
      ]
    },
    {
      "cell_type": "code",
      "execution_count": 6,
      "id": "cb5035ba",
      "metadata": {
        "id": "cb5035ba"
      },
      "outputs": [],
      "source": [
        "imgtrain, labtrain = emnist.extract_training_samples('balanced')\n",
        "imgtest, labtest = emnist.extract_test_samples('balanced')"
      ]
    },
    {
      "cell_type": "code",
      "execution_count": 7,
      "id": "4ccd4a17",
      "metadata": {},
      "outputs": [
        {
          "name": "stdout",
          "output_type": "stream",
          "text": [
            "Train: 112800 samples\n",
            "Test: 18800 samples\n",
            "Image size: 28x28\n"
          ]
        }
      ],
      "source": [
        "print(f'Train: {len(imgtrain)} samples')\n",
        "print(f'Test: {len(imgtest)} samples')\n",
        "print(f'Image size: {imgtrain.data.shape[1]}x{imgtrain.data.shape[2]}')"
      ]
    },
    {
      "cell_type": "code",
      "execution_count": 8,
      "id": "e8a6ab88",
      "metadata": {},
      "outputs": [],
      "source": [
        "labelz = {}\n",
        "with open('emnist-balanced-mapping.txt', 'r') as f:\n",
        "    for i in f:\n",
        "        label, ANCII = i.split()\n",
        "        labelz[int(label)] = chr(int(ANCII))"
      ]
    },
    {
      "cell_type": "code",
      "execution_count": 9,
      "id": "afd0f579",
      "metadata": {},
      "outputs": [
        {
          "data": {
            "text/plain": [
              "(array([ 0,  1,  2,  3,  4,  5,  6,  7,  8,  9, 10, 11, 12, 13, 14, 15, 16,\n",
              "        17, 18, 19, 20, 21, 22, 23, 24, 25, 26, 27, 28, 29, 30, 31, 32, 33,\n",
              "        34, 35, 36, 37, 38, 39, 40, 41, 42, 43, 44, 45, 46], dtype=uint8),\n",
              " array([2400, 2400, 2400, 2400, 2400, 2400, 2400, 2400, 2400, 2400, 2400,\n",
              "        2400, 2400, 2400, 2400, 2400, 2400, 2400, 2400, 2400, 2400, 2400,\n",
              "        2400, 2400, 2400, 2400, 2400, 2400, 2400, 2400, 2400, 2400, 2400,\n",
              "        2400, 2400, 2400, 2400, 2400, 2400, 2400, 2400, 2400, 2400, 2400,\n",
              "        2400, 2400, 2400], dtype=int64))"
            ]
          },
          "execution_count": 9,
          "metadata": {},
          "output_type": "execute_result"
        }
      ],
      "source": [
        "np.unique(labtrain, return_counts=True)"
      ]
    },
    {
      "cell_type": "code",
      "execution_count": 10,
      "id": "544833a1",
      "metadata": {},
      "outputs": [
        {
          "data": {
            "text/plain": [
              "(array([ 0,  1,  2,  3,  4,  5,  6,  7,  8,  9, 10, 11, 12, 13, 14, 15, 16,\n",
              "        17, 18, 19, 20, 21, 22, 23, 24, 25, 26, 27, 28, 29, 30, 31, 32, 33,\n",
              "        34, 35, 36, 37, 38, 39, 40, 41, 42, 43, 44, 45, 46], dtype=uint8),\n",
              " array([400, 400, 400, 400, 400, 400, 400, 400, 400, 400, 400, 400, 400,\n",
              "        400, 400, 400, 400, 400, 400, 400, 400, 400, 400, 400, 400, 400,\n",
              "        400, 400, 400, 400, 400, 400, 400, 400, 400, 400, 400, 400, 400,\n",
              "        400, 400, 400, 400, 400, 400, 400, 400], dtype=int64))"
            ]
          },
          "execution_count": 10,
          "metadata": {},
          "output_type": "execute_result"
        }
      ],
      "source": [
        "np.unique(labtest, return_counts=True)"
      ]
    },
    {
      "cell_type": "markdown",
      "id": "246ad6b5",
      "metadata": {},
      "source": [
        "<font color=\"green\" style=\"font-size:16px\"><b>В трейне по 2400 каждого, в тесте по 400</b></font>"
      ]
    },
    {
      "cell_type": "code",
      "execution_count": 11,
      "id": "e2a5d48f",
      "metadata": {},
      "outputs": [
        {
          "data": {
            "image/png": "[encoded data removed]",
            "text/plain": [
              "<Figure size 640x480 with 1 Axes>"
            ]
          },
          "metadata": {},
          "output_type": "display_data"
        },
        {
          "data": {
            "image/png": "[encoded data removed]",
            "text/plain": [
              "<Figure size 640x480 with 1 Axes>"
            ]
          },
          "metadata": {},
          "output_type": "display_data"
        },
        {
          "data": {
            "image/png": "[encoded data removed]",
            "text/plain": [
              "<Figure size 640x480 with 1 Axes>"
            ]
          },
          "metadata": {},
          "output_type": "display_data"
        },
        {
          "data": {
            "image/png": "[encoded data removed]",
            "text/plain": [
              "<Figure size 640x480 with 1 Axes>"
            ]
          },
          "metadata": {},
          "output_type": "display_data"
        },
        {
          "data": {
            "image/png": "[encoded data removed]",
            "text/plain": [
              "<Figure size 640x480 with 1 Axes>"
            ]
          },
          "metadata": {},
          "output_type": "display_data"
        }
      ],
      "source": [
        "for i in range(5):\n",
        "    plt.imshow(imgtrain[i], cmap='gray')\n",
        "    plt.title(labelz[labtrain[i]])\n",
        "    plt.show()"
      ]
    },
    {
      "cell_type": "markdown",
      "id": "44aa75fc",
      "metadata": {
        "id": "44aa75fc"
      },
      "source": [
        "### 3. Подготовьте датасет для обучения и валидации\n",
        "\n",
        "_Подсказка: чтобы вытянуть изображения в вектор, понадобится метод_ `reshape` _из библиотеки_ `numpy`."
      ]
    },
    {
      "cell_type": "code",
      "execution_count": 12,
      "id": "59e4e4e1",
      "metadata": {
        "id": "59e4e4e1"
      },
      "outputs": [
        {
          "data": {
            "text/plain": [
              "((112800, 784), (18800, 784), (112800,), (18800,))"
            ]
          },
          "execution_count": 12,
          "metadata": {},
          "output_type": "execute_result"
        }
      ],
      "source": [
        "Xtrain = imgtrain.reshape(imgtrain.shape[0],-1)\n",
        "ytrain = labtrain.reshape(labtrain.shape[0],-1)\n",
        "Xtest = imgtest.reshape(imgtest.shape[0],-1)\n",
        "ytest = labtest.reshape(labtest.shape[0],-1)\n",
        "\n",
        "ytest = ytest.ravel()\n",
        "ytrain = ytrain.ravel()\n",
        "\n",
        "Xtrain = Xtrain.astype(np.float32)\n",
        "Xtrain /= 255.0\n",
        "Xtest = Xtest.astype(np.float32)\n",
        "Xtest /= 255.0\n",
        "\n",
        "Xtrain.shape, Xtest.shape, ytrain.shape, ytest.shape"
      ]
    },
    {
      "cell_type": "code",
      "execution_count": 32,
      "id": "e87222e2",
      "metadata": {},
      "outputs": [
        {
          "data": {
            "text/plain": [
              "((45120, 784), (11280, 784), (45120,), (11280,))"
            ]
          },
          "execution_count": 32,
          "metadata": {},
          "output_type": "execute_result"
        }
      ],
      "source": [
        "Xtrain_s, Xtest_b, ytrain_s, ytest_b = train_test_split(Xtrain, ytrain, test_size=0.5, random_state=42)\n",
        "Xtrain_s, Xval, ytrain_s, yval = train_test_split(Xtrain_s, ytrain_s, test_size=0.2, random_state=42)\n",
        "Xtrain_s.shape, Xval.shape, ytrain_s.shape, yval.shape"
      ]
    },
    {
      "cell_type": "markdown",
      "id": "018140da",
      "metadata": {
        "id": "018140da"
      },
      "source": [
        "### 4. Выберите модель, обучите её, протестируйте и сохраните\n",
        "\n",
        "Выведите на экран точность вашей модели. Выведите и проанализируйте матрицу ошибок. Какие два символа она чаще всего путает? На каком символе модель чаще всего ошибается?"
      ]
    },
    {
      "cell_type": "code",
      "execution_count": 14,
      "id": "af6b6809",
      "metadata": {},
      "outputs": [],
      "source": [
        "from sklearn.linear_model import LogisticRegression\n",
        "from lightgbm import LGBMClassifier\n",
        "from catboost import CatBoostClassifier"
      ]
    },
    {
      "cell_type": "code",
      "execution_count": 33,
      "id": "7b6a4be0",
      "metadata": {},
      "outputs": [],
      "source": [
        "stat2 = pd.DataFrame(columns=['model', 'cv', 'accuracy_test'])"
      ]
    },
    {
      "cell_type": "markdown",
      "id": "e9633717",
      "metadata": {},
      "source": [
        "lgbm\n",
        "----"
      ]
    },
    {
      "cell_type": "code",
      "execution_count": 35,
      "id": "1dc18ffa",
      "metadata": {},
      "outputs": [],
      "source": [
        "LGBMC = LGBMClassifier(random_seed=42,force_col_wise=True, objective='multiclass')\n",
        "LGBMC.fit(Xtrain_s, ytrain_s, eval_set = [(Xval, yval)])\n",
        "\n",
        "pred_test = LGBMC.predict(Xtest)\n",
        "accuracy_test = accuracy_score(ytest,pred_test)\n",
        "\n",
        "scores = cross_val_score(LGBMC, Xtrain_s, ytrain_s, cv=5, scoring = 'accuracy')\n",
        "\n",
        "res = pd.DataFrame({\n",
        "    'model': [LGBMC],\n",
        "    'cv': [np.mean(scores)],\n",
        "    'accuracy_test': [accuracy_test]\n",
        "    })\n",
        "stat2 = pd.concat([stat2, res]).reset_index(drop=True)"
      ]
    },
    {
      "cell_type": "code",
      "execution_count": 36,
      "id": "8f9f3b51",
      "metadata": {},
      "outputs": [
        {
          "data": {
            "text/html": [
              "<div>\n",
              "<style scoped>\n",
              "    .dataframe tbody tr th:only-of-type {\n",
              "        vertical-align: middle;\n",
              "    }\n",
              "\n",
              "    .dataframe tbody tr th {\n",
              "        vertical-align: top;\n",
              "    }\n",
              "\n",
              "    .dataframe thead th {\n",
              "        text-align: right;\n",
              "    }\n",
              "</style>\n",
              "<table border=\"1\" class=\"dataframe\">\n",
              "  <thead>\n",
              "    <tr style=\"text-align: right;\">\n",
              "      <th></th>\n",
              "      <th>model</th>\n",
              "      <th>cv</th>\n",
              "      <th>accuracy_test</th>\n",
              "    </tr>\n",
              "  </thead>\n",
              "  <tbody>\n",
              "    <tr>\n",
              "      <th>0</th>\n",
              "      <td>LGBMClassifier(force_col_wise=True, objective=...</td>\n",
              "      <td>0.782159</td>\n",
              "      <td>0.780372</td>\n",
              "    </tr>\n",
              "  </tbody>\n",
              "</table>\n",
              "</div>"
            ],
            "text/plain": [
              "                                               model        cv  accuracy_test\n",
              "0  LGBMClassifier(force_col_wise=True, objective=...  0.782159       0.780372"
            ]
          },
          "execution_count": 36,
          "metadata": {},
          "output_type": "execute_result"
        }
      ],
      "source": [
        "stat2"
      ]
    },
    {
      "cell_type": "code",
      "execution_count": 37,
      "id": "f27c5075",
      "metadata": {},
      "outputs": [
        {
          "data": {
            "text/plain": [
              "0.7828191489361702"
            ]
          },
          "execution_count": 37,
          "metadata": {},
          "output_type": "execute_result"
        }
      ],
      "source": [
        "pred_test_one = LGBMC.predict(Xtest_b)\n",
        "accuracy_test_one = accuracy_score(ytest_b,pred_test_one)\n",
        "accuracy_test_one"
      ]
    },
    {
      "cell_type": "code",
      "execution_count": 41,
      "id": "2bbd0a6b",
      "metadata": {},
      "outputs": [
        {
          "data": {
            "text/plain": [
              "array([12, 28, 17, ...,  9,  8, 35], dtype=uint8)"
            ]
          },
          "execution_count": 41,
          "metadata": {},
          "output_type": "execute_result"
        }
      ],
      "source": [
        "pred_test_one"
      ]
    },
    {
      "cell_type": "code",
      "execution_count": 38,
      "id": "41ae6cae",
      "metadata": {},
      "outputs": [
        {
          "data": {
            "text/plain": [
              "0.7828191489361702"
            ]
          },
          "execution_count": 38,
          "metadata": {},
          "output_type": "execute_result"
        }
      ],
      "source": [
        "sum(ytest_b == pred_test_one)/len(ytest_b)"
      ]
    },
    {
      "cell_type": "code",
      "execution_count": 39,
      "id": "53552be3",
      "metadata": {},
      "outputs": [
        {
          "name": "stdout",
          "output_type": "stream",
          "text": [
            "the worst 10 predicts made for the following symbols: ['g', 'L', 'q', 'f', 'F', '1', 'I', 'O', '0', '9']\n"
          ]
        }
      ],
      "source": [
        "diff_pred1 = pd.DataFrame({'real':ytest_b, 'predict': pred_test_one})\n",
        "fails1 = diff_pred1[diff_pred1['real']!=diff_pred1['predict']]['real']\n",
        "print(f'the worst 10 predicts made for the following symbols:\\\n",
        " {[labelz[i] for i in fails1.value_counts().head(10).index.tolist()]}')"
      ]
    },
    {
      "cell_type": "code",
      "execution_count": null,
      "id": "7729a571",
      "metadata": {},
      "outputs": [],
      "source": [
        "def objective_LGBMClassifier(trial):\n",
        "    \n",
        "    params = {\n",
        "        'n_estimators': trial.suggest_int('n_estimators', 5, 200),\n",
        "        'reg_alpha': trial.suggest_int('reg_alpha', 10, 70),\n",
        "        'reg_lambda': trial.suggest_int('reg_lambda', 20, 200)\n",
        "    }\n",
        "    \n",
        "    model = LGBMClassifier(random_state=42, force_col_wise=True,\n",
        "                          **params)\n",
        "    model.fit(Xtrain_s, ytrain_s)\n",
        "    preds = model.predict(Xtest)\n",
        "\n",
        "    return accuracy_score(ytest,preds)\n",
        "\n",
        "study_LGBMClassifier = optuna.create_study(direction='maximize', pruner='MedianPruner')\n",
        "study_LGBMClassifier.optimize(objective_LGBMClassifier, n_trials=50)\n",
        "print('Best one:', study_LGBMClassifier.best_trial.params, study_LGBMClassifier.best_value)\n",
        "os.system(f'telegram-send \"study_LGBMClassifier best score:{study_LGBMClassifier.best_value}\"')"
      ]
    },
    {
      "cell_type": "markdown",
      "id": "3709f79b",
      "metadata": {},
      "source": [
        "other models\n",
        "-----"
      ]
    },
    {
      "cell_type": "code",
      "execution_count": 34,
      "id": "4263d3a1",
      "metadata": {},
      "outputs": [
        {
          "name": "stdout",
          "output_type": "stream",
          "text": [
            "0:\tlearn: 0.1026891\ttest: 0.1046099\tbest: 0.1046099 (0)\ttotal: 9.97s\tremaining: 16m 27s\n",
            "1:\tlearn: 0.1692893\ttest: 0.1566194\tbest: 0.1566194 (1)\ttotal: 19.9s\tremaining: 16m 16s\n",
            "2:\tlearn: 0.2200798\ttest: 0.2108452\tbest: 0.2108452 (2)\ttotal: 30.5s\tremaining: 16m 26s\n",
            "3:\tlearn: 0.2529551\ttest: 0.2381797\tbest: 0.2381797 (3)\ttotal: 40.8s\tremaining: 16m 18s\n",
            "4:\tlearn: 0.2670656\ttest: 0.2470449\tbest: 0.2470449 (4)\ttotal: 50.6s\tremaining: 16m 1s\n",
            "5:\tlearn: 0.3120567\ttest: 0.2921099\tbest: 0.2921099 (5)\ttotal: 1m\tremaining: 15m 53s\n",
            "6:\tlearn: 0.3449320\ttest: 0.3206265\tbest: 0.3206265 (6)\ttotal: 1m 10s\tremaining: 15m 40s\n",
            "7:\tlearn: 0.3680925\ttest: 0.3448582\tbest: 0.3448582 (7)\ttotal: 1m 20s\tremaining: 15m 24s\n",
            "8:\tlearn: 0.3742982\ttest: 0.3519504\tbest: 0.3519504 (8)\ttotal: 1m 30s\tremaining: 15m 11s\n",
            "9:\tlearn: 0.3843085\ttest: 0.3605201\tbest: 0.3605201 (9)\ttotal: 1m 40s\tremaining: 15m\n",
            "10:\tlearn: 0.4156693\ttest: 0.3983452\tbest: 0.3983452 (10)\ttotal: 1m 50s\tremaining: 14m 53s\n",
            "11:\tlearn: 0.4338061\ttest: 0.4126773\tbest: 0.4126773 (11)\ttotal: 2m\tremaining: 14m 43s\n",
            "12:\tlearn: 0.4420804\ttest: 0.4199173\tbest: 0.4199173 (12)\ttotal: 2m 10s\tremaining: 14m 30s\n",
            "13:\tlearn: 0.4520907\ttest: 0.4286348\tbest: 0.4286348 (13)\ttotal: 2m 19s\tremaining: 14m 19s\n",
            "14:\tlearn: 0.4542332\ttest: 0.4336584\tbest: 0.4336584 (14)\ttotal: 2m 29s\tremaining: 14m 8s\n",
            "15:\tlearn: 0.4541593\ttest: 0.4333629\tbest: 0.4336584 (14)\ttotal: 2m 39s\tremaining: 13m 55s\n",
            "16:\tlearn: 0.4582964\ttest: 0.4358747\tbest: 0.4358747 (16)\ttotal: 2m 48s\tremaining: 13m 43s\n",
            "17:\tlearn: 0.4762116\ttest: 0.4485816\tbest: 0.4485816 (17)\ttotal: 2m 58s\tremaining: 13m 33s\n",
            "18:\tlearn: 0.4788342\ttest: 0.4491726\tbest: 0.4491726 (18)\ttotal: 3m 8s\tremaining: 13m 22s\n",
            "19:\tlearn: 0.4811983\ttest: 0.4586288\tbest: 0.4586288 (19)\ttotal: 3m 17s\tremaining: 13m 11s\n",
            "20:\tlearn: 0.4869607\ttest: 0.4645390\tbest: 0.4645390 (20)\ttotal: 3m 27s\tremaining: 13m 2s\n",
            "21:\tlearn: 0.4919843\ttest: 0.4704492\tbest: 0.4704492 (21)\ttotal: 3m 38s\tremaining: 12m 52s\n",
            "22:\tlearn: 0.4978945\ttest: 0.4705969\tbest: 0.4705969 (22)\ttotal: 3m 48s\tremaining: 12m 43s\n",
            "23:\tlearn: 0.4977837\ttest: 0.4757683\tbest: 0.4757683 (23)\ttotal: 3m 58s\tremaining: 12m 33s\n",
            "24:\tlearn: 0.5012190\ttest: 0.4776891\tbest: 0.4776891 (24)\ttotal: 4m 8s\tremaining: 12m 24s\n",
            "25:\tlearn: 0.5041002\ttest: 0.4816785\tbest: 0.4816785 (25)\ttotal: 4m 17s\tremaining: 12m 13s\n",
            "26:\tlearn: 0.5111924\ttest: 0.4852246\tbest: 0.4852246 (26)\ttotal: 4m 27s\tremaining: 12m 4s\n",
            "27:\tlearn: 0.5172503\ttest: 0.4869976\tbest: 0.4869976 (27)\ttotal: 4m 38s\tremaining: 11m 55s\n",
            "28:\tlearn: 0.5179891\ttest: 0.4859634\tbest: 0.4869976 (27)\ttotal: 4m 48s\tremaining: 11m 45s\n",
            "29:\tlearn: 0.5216090\ttest: 0.4908392\tbest: 0.4908392 (29)\ttotal: 4m 57s\tremaining: 11m 35s\n",
            "30:\tlearn: 0.5229388\ttest: 0.4921690\tbest: 0.4921690 (30)\ttotal: 5m 8s\tremaining: 11m 25s\n",
            "31:\tlearn: 0.5252290\ttest: 0.4943853\tbest: 0.4943853 (31)\ttotal: 5m 18s\tremaining: 11m 15s\n",
            "32:\tlearn: 0.5322104\ttest: 0.5047281\tbest: 0.5047281 (32)\ttotal: 5m 27s\tremaining: 11m 5s\n",
            "33:\tlearn: 0.5338726\ttest: 0.5087175\tbest: 0.5087175 (33)\ttotal: 5m 37s\tremaining: 10m 55s\n",
            "34:\tlearn: 0.5375665\ttest: 0.5116726\tbest: 0.5116726 (34)\ttotal: 5m 47s\tremaining: 10m 45s\n",
            "35:\tlearn: 0.5419622\ttest: 0.5152187\tbest: 0.5152187 (35)\ttotal: 5m 57s\tremaining: 10m 35s\n",
            "36:\tlearn: 0.5416297\ttest: 0.5172872\tbest: 0.5172872 (36)\ttotal: 6m 7s\tremaining: 10m 25s\n",
            "37:\tlearn: 0.5422946\ttest: 0.5181738\tbest: 0.5181738 (37)\ttotal: 6m 17s\tremaining: 10m 15s\n",
            "38:\tlearn: 0.5465426\ttest: 0.5252660\tbest: 0.5252660 (38)\ttotal: 6m 27s\tremaining: 10m 5s\n",
            "39:\tlearn: 0.5482048\ttest: 0.5258570\tbest: 0.5258570 (39)\ttotal: 6m 37s\tremaining: 9m 55s\n",
            "40:\tlearn: 0.5515662\ttest: 0.5263002\tbest: 0.5263002 (40)\ttotal: 6m 46s\tremaining: 9m 45s\n",
            "41:\tlearn: 0.5535239\ttest: 0.5295508\tbest: 0.5295508 (41)\ttotal: 6m 56s\tremaining: 9m 34s\n",
            "42:\tlearn: 0.5516401\ttest: 0.5313239\tbest: 0.5313239 (42)\ttotal: 7m 5s\tremaining: 9m 24s\n",
            "43:\tlearn: 0.5545952\ttest: 0.5326537\tbest: 0.5326537 (43)\ttotal: 7m 16s\tremaining: 9m 15s\n",
            "44:\tlearn: 0.5551492\ttest: 0.5296986\tbest: 0.5326537 (43)\ttotal: 7m 26s\tremaining: 9m 5s\n",
            "45:\tlearn: 0.5576611\ttest: 0.5308806\tbest: 0.5326537 (43)\ttotal: 7m 37s\tremaining: 8m 56s\n",
            "46:\tlearn: 0.5572917\ttest: 0.5323582\tbest: 0.5326537 (43)\ttotal: 7m 47s\tremaining: 8m 46s\n",
            "47:\tlearn: 0.5572178\ttest: 0.5326537\tbest: 0.5326537 (43)\ttotal: 7m 56s\tremaining: 8m 36s\n",
            "48:\tlearn: 0.5615027\ttest: 0.5382683\tbest: 0.5382683 (48)\ttotal: 8m 6s\tremaining: 8m 26s\n",
            "49:\tlearn: 0.5627955\ttest: 0.5404846\tbest: 0.5404846 (49)\ttotal: 8m 16s\tremaining: 8m 16s\n",
            "50:\tlearn: 0.5643839\ttest: 0.5375296\tbest: 0.5404846 (49)\ttotal: 8m 26s\tremaining: 8m 6s\n",
            "51:\tlearn: 0.5635712\ttest: 0.5370863\tbest: 0.5404846 (49)\ttotal: 8m 36s\tremaining: 7m 56s\n",
            "52:\tlearn: 0.5683732\ttest: 0.5424054\tbest: 0.5424054 (52)\ttotal: 8m 46s\tremaining: 7m 46s\n",
            "53:\tlearn: 0.5700355\ttest: 0.5415189\tbest: 0.5424054 (52)\ttotal: 8m 56s\tremaining: 7m 37s\n",
            "54:\tlearn: 0.5706265\ttest: 0.5437352\tbest: 0.5437352 (54)\ttotal: 9m 6s\tremaining: 7m 27s\n",
            "55:\tlearn: 0.5733969\ttest: 0.5422577\tbest: 0.5437352 (54)\ttotal: 9m 16s\tremaining: 7m 17s\n",
            "56:\tlearn: 0.5737663\ttest: 0.5435875\tbest: 0.5437352 (54)\ttotal: 9m 26s\tremaining: 7m 7s\n",
            "57:\tlearn: 0.5751699\ttest: 0.5450650\tbest: 0.5450650 (57)\ttotal: 9m 36s\tremaining: 6m 57s\n",
            "58:\tlearn: 0.5753915\ttest: 0.5505319\tbest: 0.5505319 (58)\ttotal: 9m 45s\tremaining: 6m 47s\n",
            "59:\tlearn: 0.5750591\ttest: 0.5496454\tbest: 0.5505319 (58)\ttotal: 9m 55s\tremaining: 6m 37s\n",
            "60:\tlearn: 0.5742095\ttest: 0.5478723\tbest: 0.5505319 (58)\ttotal: 10m 5s\tremaining: 6m 27s\n",
            "61:\tlearn: 0.5776448\ttest: 0.5492021\tbest: 0.5505319 (58)\ttotal: 10m 15s\tremaining: 6m 17s\n",
            "62:\tlearn: 0.5799350\ttest: 0.5528960\tbest: 0.5528960 (62)\ttotal: 10m 25s\tremaining: 6m 7s\n",
            "63:\tlearn: 0.5798980\ttest: 0.5545213\tbest: 0.5545213 (63)\ttotal: 10m 35s\tremaining: 5m 57s\n",
            "64:\tlearn: 0.5803413\ttest: 0.5531915\tbest: 0.5545213 (63)\ttotal: 10m 45s\tremaining: 5m 47s\n",
            "65:\tlearn: 0.5818558\ttest: 0.5562943\tbest: 0.5562943 (65)\ttotal: 10m 55s\tremaining: 5m 37s\n",
            "66:\tlearn: 0.5854758\ttest: 0.5574764\tbest: 0.5574764 (66)\ttotal: 11m 5s\tremaining: 5m 27s\n",
            "67:\tlearn: 0.5856974\ttest: 0.5583629\tbest: 0.5583629 (67)\ttotal: 11m 14s\tremaining: 5m 17s\n",
            "68:\tlearn: 0.5843307\ttest: 0.5562943\tbest: 0.5583629 (67)\ttotal: 11m 24s\tremaining: 5m 7s\n",
            "69:\tlearn: 0.5851803\ttest: 0.5586584\tbest: 0.5586584 (69)\ttotal: 11m 35s\tremaining: 4m 57s\n",
            "70:\tlearn: 0.5865100\ttest: 0.5582151\tbest: 0.5586584 (69)\ttotal: 11m 45s\tremaining: 4m 48s\n",
            "71:\tlearn: 0.5854388\ttest: 0.5588061\tbest: 0.5588061 (71)\ttotal: 11m 55s\tremaining: 4m 38s\n",
            "72:\tlearn: 0.5869533\ttest: 0.5586584\tbest: 0.5588061 (71)\ttotal: 12m 5s\tremaining: 4m 28s\n",
            "73:\tlearn: 0.5875813\ttest: 0.5586584\tbest: 0.5588061 (71)\ttotal: 12m 15s\tremaining: 4m 18s\n",
            "74:\tlearn: 0.5898345\ttest: 0.5596927\tbest: 0.5596927 (74)\ttotal: 12m 25s\tremaining: 4m 8s\n",
            "75:\tlearn: 0.5892066\ttest: 0.5601359\tbest: 0.5601359 (75)\ttotal: 12m 35s\tremaining: 3m 58s\n",
            "76:\tlearn: 0.5905733\ttest: 0.5626478\tbest: 0.5626478 (76)\ttotal: 12m 45s\tremaining: 3m 48s\n",
            "77:\tlearn: 0.5902778\ttest: 0.5645686\tbest: 0.5645686 (77)\ttotal: 12m 56s\tremaining: 3m 38s\n",
            "78:\tlearn: 0.5937131\ttest: 0.5690012\tbest: 0.5690012 (78)\ttotal: 13m 6s\tremaining: 3m 28s\n",
            "79:\tlearn: 0.5941933\ttest: 0.5663416\tbest: 0.5690012 (78)\ttotal: 13m 15s\tremaining: 3m 18s\n",
            "80:\tlearn: 0.5952645\ttest: 0.5710697\tbest: 0.5710697 (80)\ttotal: 13m 25s\tremaining: 3m 9s\n",
            "81:\tlearn: 0.5969267\ttest: 0.5722518\tbest: 0.5722518 (81)\ttotal: 13m 35s\tremaining: 2m 59s\n",
            "82:\tlearn: 0.5988845\ttest: 0.5728428\tbest: 0.5728428 (82)\ttotal: 13m 45s\tremaining: 2m 49s\n",
            "83:\tlearn: 0.6016179\ttest: 0.5769799\tbest: 0.5769799 (83)\ttotal: 13m 55s\tremaining: 2m 39s\n",
            "84:\tlearn: 0.6034648\ttest: 0.5789007\tbest: 0.5789007 (84)\ttotal: 14m 5s\tremaining: 2m 29s\n",
            "85:\tlearn: 0.6033910\ttest: 0.5796395\tbest: 0.5796395 (85)\ttotal: 14m 14s\tremaining: 2m 19s\n",
            "86:\tlearn: 0.6046838\ttest: 0.5824468\tbest: 0.5824468 (86)\ttotal: 14m 24s\tremaining: 2m 9s\n",
            "87:\tlearn: 0.6050901\ttest: 0.5822991\tbest: 0.5824468 (86)\ttotal: 14m 35s\tremaining: 1m 59s\n",
            "88:\tlearn: 0.6050532\ttest: 0.5833333\tbest: 0.5833333 (88)\ttotal: 14m 45s\tremaining: 1m 49s\n",
            "89:\tlearn: 0.6049054\ttest: 0.5825946\tbest: 0.5833333 (88)\ttotal: 14m 55s\tremaining: 1m 39s\n",
            "90:\tlearn: 0.6084885\ttest: 0.5859929\tbest: 0.5859929 (90)\ttotal: 15m 5s\tremaining: 1m 29s\n",
            "91:\tlearn: 0.6102985\ttest: 0.5859929\tbest: 0.5859929 (90)\ttotal: 15m 15s\tremaining: 1m 19s\n",
            "92:\tlearn: 0.6122193\ttest: 0.5886525\tbest: 0.5886525 (92)\ttotal: 15m 25s\tremaining: 1m 9s\n",
            "93:\tlearn: 0.6119976\ttest: 0.5902778\tbest: 0.5902778 (93)\ttotal: 15m 35s\tremaining: 59.7s\n",
            "94:\tlearn: 0.6145464\ttest: 0.5921986\tbest: 0.5921986 (94)\ttotal: 15m 44s\tremaining: 49.7s\n",
            "95:\tlearn: 0.6157284\ttest: 0.5923463\tbest: 0.5923463 (95)\ttotal: 15m 55s\tremaining: 39.8s\n",
            "96:\tlearn: 0.6177231\ttest: 0.5942671\tbest: 0.5942671 (96)\ttotal: 16m 5s\tremaining: 29.9s\n",
            "97:\tlearn: 0.6172060\ttest: 0.5930851\tbest: 0.5942671 (96)\ttotal: 16m 16s\tremaining: 19.9s\n",
            "98:\tlearn: 0.6175384\ttest: 0.5947104\tbest: 0.5947104 (98)\ttotal: 16m 26s\tremaining: 9.96s\n",
            "99:\tlearn: 0.6187204\ttest: 0.5945626\tbest: 0.5947104 (98)\ttotal: 16m 35s\tremaining: 0us\n",
            "\n",
            "bestTest = 0.5947104019\n",
            "bestIteration = 98\n",
            "\n",
            "Shrink model to first 99 iterations.\n"
          ]
        }
      ],
      "source": [
        "CB = CatBoostClassifier(iterations=100, eval_metric='Accuracy', early_stopping_rounds=10, objective='MultiClassOneVsAll')\n",
        "CB.fit(Xtrain_s, ytrain_s, eval_set = [(Xval, yval)])\n",
        "\n",
        "pred_train = CB.predict(Xtrain_s)\n",
        "pred_test = CB.predict(Xtest)\n",
        "\n",
        "accuracy_train = accuracy_score(ytrain_s,pred_train)\n",
        "accuracy_test = accuracy_score(ytest,pred_test)\n",
        "\n",
        "res = pd.DataFrame({\n",
        "    'model': [CB],\n",
        "    'accuracy_train': [accuracy_train],\n",
        "    'accuracy_test': [accuracy_test]\n",
        "    })\n",
        "stat = pd.concat([stat, res]).reset_index(drop=True)"
      ]
    },
    {
      "cell_type": "code",
      "execution_count": 35,
      "id": "49da96c4",
      "metadata": {},
      "outputs": [
        {
          "name": "stdout",
          "output_type": "stream",
          "text": [
            "Learning rate set to 0.277957\n",
            "0:\tlearn: 0.2183067\ttest: 0.2089243\tbest: 0.2089243 (0)\ttotal: 9.92s\tremaining: 16m 22s\n",
            "1:\tlearn: 0.2802527\ttest: 0.2665485\tbest: 0.2665485 (1)\ttotal: 19.8s\tremaining: 16m 11s\n",
            "2:\tlearn: 0.3645833\ttest: 0.3507683\tbest: 0.3507683 (2)\ttotal: 29.7s\tremaining: 16m\n",
            "3:\tlearn: 0.4214317\ttest: 0.4027778\tbest: 0.4027778 (3)\ttotal: 40s\tremaining: 15m 59s\n",
            "4:\tlearn: 0.4680482\ttest: 0.4463652\tbest: 0.4463652 (4)\ttotal: 49.7s\tremaining: 15m 44s\n",
            "5:\tlearn: 0.4981161\ttest: 0.4729610\tbest: 0.4729610 (5)\ttotal: 59.4s\tremaining: 15m 30s\n",
            "6:\tlearn: 0.5248596\ttest: 0.4991135\tbest: 0.4991135 (6)\ttotal: 1m 8s\tremaining: 15m 16s\n",
            "7:\tlearn: 0.5461362\ttest: 0.5152187\tbest: 0.5152187 (7)\ttotal: 1m 18s\tremaining: 15m 1s\n",
            "8:\tlearn: 0.5666002\ttest: 0.5344267\tbest: 0.5344267 (8)\ttotal: 1m 27s\tremaining: 14m 49s\n",
            "9:\tlearn: 0.5882831\ttest: 0.5515662\tbest: 0.5515662 (9)\ttotal: 1m 37s\tremaining: 14m 36s\n",
            "10:\tlearn: 0.6014332\ttest: 0.5639775\tbest: 0.5639775 (10)\ttotal: 1m 46s\tremaining: 14m 25s\n",
            "11:\tlearn: 0.6165780\ttest: 0.5793440\tbest: 0.5793440 (11)\ttotal: 1m 56s\tremaining: 14m 16s\n",
            "12:\tlearn: 0.6272163\ttest: 0.5851064\tbest: 0.5851064 (12)\ttotal: 2m 6s\tremaining: 14m 7s\n",
            "13:\tlearn: 0.6397015\ttest: 0.5973700\tbest: 0.5973700 (13)\ttotal: 2m 16s\tremaining: 13m 59s\n",
            "14:\tlearn: 0.6515957\ttest: 0.6054965\tbest: 0.6054965 (14)\ttotal: 2m 26s\tremaining: 13m 48s\n",
            "15:\tlearn: 0.6593528\ttest: 0.6137707\tbest: 0.6137707 (15)\ttotal: 2m 35s\tremaining: 13m 37s\n",
            "16:\tlearn: 0.6704713\ttest: 0.6232270\tbest: 0.6232270 (16)\ttotal: 2m 45s\tremaining: 13m 27s\n",
            "17:\tlearn: 0.6777482\ttest: 0.6261820\tbest: 0.6261820 (17)\ttotal: 2m 55s\tremaining: 13m 17s\n",
            "18:\tlearn: 0.6835106\ttest: 0.6313534\tbest: 0.6313534 (18)\ttotal: 3m 4s\tremaining: 13m 6s\n",
            "19:\tlearn: 0.6905659\ttest: 0.6353428\tbest: 0.6353428 (19)\ttotal: 3m 14s\tremaining: 12m 57s\n",
            "20:\tlearn: 0.6964391\ttest: 0.6409574\tbest: 0.6409574 (20)\ttotal: 3m 24s\tremaining: 12m 48s\n",
            "21:\tlearn: 0.7004654\ttest: 0.6419917\tbest: 0.6419917 (21)\ttotal: 3m 33s\tremaining: 12m 37s\n",
            "22:\tlearn: 0.7045656\ttest: 0.6450946\tbest: 0.6450946 (22)\ttotal: 3m 43s\tremaining: 12m 26s\n",
            "23:\tlearn: 0.7076684\ttest: 0.6470154\tbest: 0.6470154 (23)\ttotal: 3m 52s\tremaining: 12m 16s\n",
            "24:\tlearn: 0.7121380\ttest: 0.6489362\tbest: 0.6489362 (24)\ttotal: 4m 1s\tremaining: 12m 5s\n",
            "25:\tlearn: 0.7178265\ttest: 0.6527778\tbest: 0.6527778 (25)\ttotal: 4m 11s\tremaining: 11m 54s\n",
            "26:\tlearn: 0.7218159\ttest: 0.6538121\tbest: 0.6538121 (26)\ttotal: 4m 20s\tremaining: 11m 44s\n",
            "27:\tlearn: 0.7232934\ttest: 0.6570626\tbest: 0.6570626 (27)\ttotal: 4m 30s\tremaining: 11m 34s\n",
            "28:\tlearn: 0.7269134\ttest: 0.6588357\tbest: 0.6588357 (28)\ttotal: 4m 39s\tremaining: 11m 24s\n",
            "29:\tlearn: 0.7290189\ttest: 0.6625296\tbest: 0.6625296 (29)\ttotal: 4m 49s\tremaining: 11m 15s\n",
            "30:\tlearn: 0.7353723\ttest: 0.6697695\tbest: 0.6697695 (30)\ttotal: 4m 59s\tremaining: 11m 5s\n",
            "31:\tlearn: 0.7376256\ttest: 0.6706560\tbest: 0.6706560 (31)\ttotal: 5m 8s\tremaining: 10m 54s\n",
            "32:\tlearn: 0.7395464\ttest: 0.6703605\tbest: 0.6706560 (31)\ttotal: 5m 17s\tremaining: 10m 44s\n",
            "33:\tlearn: 0.7432033\ttest: 0.6733156\tbest: 0.6733156 (33)\ttotal: 5m 26s\tremaining: 10m 34s\n",
            "34:\tlearn: 0.7464908\ttest: 0.6746454\tbest: 0.6746454 (34)\ttotal: 5m 35s\tremaining: 10m 23s\n",
            "35:\tlearn: 0.7483747\ttest: 0.6784870\tbest: 0.6784870 (35)\ttotal: 5m 45s\tremaining: 10m 14s\n",
            "36:\tlearn: 0.7494829\ttest: 0.6792258\tbest: 0.6792258 (36)\ttotal: 5m 54s\tremaining: 10m 4s\n",
            "37:\tlearn: 0.7528073\ttest: 0.6823286\tbest: 0.6823286 (37)\ttotal: 6m 4s\tremaining: 9m 54s\n",
            "38:\tlearn: 0.7552083\ttest: 0.6854314\tbest: 0.6854314 (38)\ttotal: 6m 13s\tremaining: 9m 44s\n",
            "39:\tlearn: 0.7618942\ttest: 0.6886820\tbest: 0.6886820 (39)\ttotal: 6m 23s\tremaining: 9m 35s\n",
            "40:\tlearn: 0.7649232\ttest: 0.6913416\tbest: 0.6913416 (40)\ttotal: 6m 33s\tremaining: 9m 26s\n",
            "41:\tlearn: 0.7668809\ttest: 0.6950355\tbest: 0.6950355 (41)\ttotal: 6m 43s\tremaining: 9m 17s\n",
            "42:\tlearn: 0.7676566\ttest: 0.6954787\tbest: 0.6954787 (42)\ttotal: 6m 53s\tremaining: 9m 7s\n",
            "43:\tlearn: 0.7682846\ttest: 0.6947400\tbest: 0.6954787 (42)\ttotal: 7m 3s\tremaining: 8m 59s\n",
            "44:\tlearn: 0.7722739\ttest: 0.6973995\tbest: 0.6973995 (44)\ttotal: 7m 14s\tremaining: 8m 50s\n",
            "45:\tlearn: 0.7730496\ttest: 0.6993203\tbest: 0.6993203 (45)\ttotal: 7m 24s\tremaining: 8m 41s\n",
            "46:\tlearn: 0.7728650\ttest: 0.6988771\tbest: 0.6993203 (45)\ttotal: 7m 34s\tremaining: 8m 32s\n",
            "47:\tlearn: 0.7750443\ttest: 0.6999113\tbest: 0.6999113 (47)\ttotal: 7m 44s\tremaining: 8m 22s\n",
            "48:\tlearn: 0.7750443\ttest: 0.6999113\tbest: 0.6999113 (47)\ttotal: 7m 53s\tremaining: 8m 12s\n",
            "49:\tlearn: 0.7752660\ttest: 0.7009456\tbest: 0.7009456 (49)\ttotal: 8m 2s\tremaining: 8m 2s\n",
            "50:\tlearn: 0.7753768\ttest: 0.7010934\tbest: 0.7010934 (50)\ttotal: 8m 11s\tremaining: 7m 52s\n",
            "51:\tlearn: 0.7765219\ttest: 0.7005024\tbest: 0.7010934 (50)\ttotal: 8m 20s\tremaining: 7m 42s\n",
            "52:\tlearn: 0.7773715\ttest: 0.7012411\tbest: 0.7012411 (52)\ttotal: 8m 30s\tremaining: 7m 33s\n",
            "53:\tlearn: 0.7774453\ttest: 0.7013889\tbest: 0.7013889 (53)\ttotal: 8m 40s\tremaining: 7m 23s\n",
            "54:\tlearn: 0.7775192\ttest: 0.7024232\tbest: 0.7024232 (54)\ttotal: 8m 50s\tremaining: 7m 13s\n",
            "55:\tlearn: 0.7787012\ttest: 0.7022754\tbest: 0.7024232 (54)\ttotal: 8m 59s\tremaining: 7m 4s\n",
            "56:\tlearn: 0.7790337\ttest: 0.7027187\tbest: 0.7027187 (56)\ttotal: 9m 9s\tremaining: 6m 54s\n",
            "57:\tlearn: 0.7799202\ttest: 0.7043440\tbest: 0.7043440 (57)\ttotal: 9m 18s\tremaining: 6m 44s\n",
            "58:\tlearn: 0.7812869\ttest: 0.7055260\tbest: 0.7055260 (58)\ttotal: 9m 27s\tremaining: 6m 34s\n",
            "59:\tlearn: 0.7813978\ttest: 0.7080378\tbest: 0.7080378 (59)\ttotal: 9m 36s\tremaining: 6m 24s\n",
            "60:\tlearn: 0.7850916\ttest: 0.7105496\tbest: 0.7105496 (60)\ttotal: 9m 46s\tremaining: 6m 14s\n",
            "61:\tlearn: 0.7853502\ttest: 0.7112884\tbest: 0.7112884 (61)\ttotal: 9m 55s\tremaining: 6m 5s\n",
            "62:\tlearn: 0.7857934\ttest: 0.7106974\tbest: 0.7112884 (61)\ttotal: 10m 5s\tremaining: 5m 55s\n",
            "63:\tlearn: 0.7864214\ttest: 0.7132092\tbest: 0.7132092 (63)\ttotal: 10m 15s\tremaining: 5m 45s\n",
            "64:\tlearn: 0.7863845\ttest: 0.7132092\tbest: 0.7132092 (63)\ttotal: 10m 24s\tremaining: 5m 36s\n",
            "65:\tlearn: 0.7867538\ttest: 0.7120272\tbest: 0.7132092 (63)\ttotal: 10m 33s\tremaining: 5m 26s\n",
            "66:\tlearn: 0.7877142\ttest: 0.7126182\tbest: 0.7132092 (63)\ttotal: 10m 43s\tremaining: 5m 16s\n",
            "67:\tlearn: 0.7877512\ttest: 0.7127660\tbest: 0.7132092 (63)\ttotal: 10m 52s\tremaining: 5m 7s\n",
            "68:\tlearn: 0.7877142\ttest: 0.7123227\tbest: 0.7132092 (63)\ttotal: 11m 1s\tremaining: 4m 57s\n",
            "69:\tlearn: 0.7878251\ttest: 0.7130615\tbest: 0.7132092 (63)\ttotal: 11m 10s\tremaining: 4m 47s\n",
            "70:\tlearn: 0.7878620\ttest: 0.7132092\tbest: 0.7132092 (63)\ttotal: 11m 20s\tremaining: 4m 37s\n",
            "71:\tlearn: 0.7878620\ttest: 0.7132092\tbest: 0.7132092 (63)\ttotal: 11m 29s\tremaining: 4m 28s\n",
            "72:\tlearn: 0.7879728\ttest: 0.7132092\tbest: 0.7132092 (63)\ttotal: 11m 38s\tremaining: 4m 18s\n",
            "73:\tlearn: 0.7879359\ttest: 0.7132092\tbest: 0.7132092 (63)\ttotal: 11m 47s\tremaining: 4m 8s\n",
            "Stopped by overfitting detector  (10 iterations wait)\n",
            "\n",
            "bestTest = 0.7132092199\n",
            "bestIteration = 63\n",
            "\n",
            "Shrink model to first 64 iterations.\n"
          ]
        }
      ],
      "source": [
        "CB2 = CatBoostClassifier(iterations=100, eval_metric='Accuracy', early_stopping_rounds=10, random_seed=42)\n",
        "CB2.fit(Xtrain_s, ytrain_s, eval_set = [(Xval, yval)])\n",
        "\n",
        "pred_train = CB2.predict(Xtrain_s)\n",
        "pred_test = CB2.predict(Xtest)\n",
        "\n",
        "accuracy_train = accuracy_score(ytrain_s,pred_train)\n",
        "accuracy_test = accuracy_score(ytest,pred_test)\n",
        "\n",
        "res = pd.DataFrame({\n",
        "    'model': [CB2],\n",
        "    'accuracy_train': [accuracy_train],\n",
        "    'accuracy_test': [accuracy_test]\n",
        "    })\n",
        "stat = pd.concat([stat, res]).reset_index(drop=True)"
      ]
    },
    {
      "cell_type": "code",
      "execution_count": 41,
      "id": "fa3fd21e",
      "metadata": {},
      "outputs": [
        {
          "name": "stderr",
          "output_type": "stream",
          "text": [
            "c:\\Users\\ESC\\.conda\\envs\\p3119\\Lib\\site-packages\\sklearn\\linear_model\\_logistic.py:1247: FutureWarning: 'multi_class' was deprecated in version 1.5 and will be removed in 1.7. From then on, it will always use 'multinomial'. Leave it to its default value to avoid this warning.\n",
            "  warnings.warn(\n",
            "c:\\Users\\ESC\\.conda\\envs\\p3119\\Lib\\site-packages\\sklearn\\linear_model\\_sag.py:349: ConvergenceWarning: The max_iter was reached which means the coef_ did not converge\n",
            "  warnings.warn(\n"
          ]
        }
      ],
      "source": [
        "LogReg = LogisticRegression(random_state=42, solver='saga',multi_class='multinomial')\n",
        "LogReg.fit(Xtrain_s, ytrain_s)\n",
        "\n",
        "pred_train = LogReg.predict(Xtrain_s)\n",
        "pred_test = LogReg.predict(Xtest)\n",
        "\n",
        "accuracy_train = accuracy_score(ytrain_s,pred_train)\n",
        "accuracy_test = accuracy_score(ytest,pred_test)\n",
        "\n",
        "res = pd.DataFrame({\n",
        "    'model': [LogReg],\n",
        "    'accuracy_train': [accuracy_train],\n",
        "    'accuracy_test': [accuracy_test]\n",
        "    })\n",
        "stat = pd.concat([stat, res]).reset_index(drop=True)"
      ]
    },
    {
      "cell_type": "code",
      "execution_count": 59,
      "id": "1ea698a2",
      "metadata": {},
      "outputs": [
        {
          "data": {
            "text/html": [
              "<div>\n",
              "<style scoped>\n",
              "    .dataframe tbody tr th:only-of-type {\n",
              "        vertical-align: middle;\n",
              "    }\n",
              "\n",
              "    .dataframe tbody tr th {\n",
              "        vertical-align: top;\n",
              "    }\n",
              "\n",
              "    .dataframe thead th {\n",
              "        text-align: right;\n",
              "    }\n",
              "</style>\n",
              "<table border=\"1\" class=\"dataframe\">\n",
              "  <thead>\n",
              "    <tr style=\"text-align: right;\">\n",
              "      <th></th>\n",
              "      <th>model</th>\n",
              "      <th>accuracy_train</th>\n",
              "      <th>accuracy_test</th>\n",
              "    </tr>\n",
              "  </thead>\n",
              "  <tbody>\n",
              "    <tr>\n",
              "      <th>0</th>\n",
              "      <td>cb_ova</td>\n",
              "      <td>0.617538</td>\n",
              "      <td>0.589149</td>\n",
              "    </tr>\n",
              "    <tr>\n",
              "      <th>1</th>\n",
              "      <td>cb_mult</td>\n",
              "      <td>0.786421</td>\n",
              "      <td>0.700904</td>\n",
              "    </tr>\n",
              "    <tr>\n",
              "      <th>2</th>\n",
              "      <td>logreg_mult</td>\n",
              "      <td>0.761636</td>\n",
              "      <td>0.655000</td>\n",
              "    </tr>\n",
              "    <tr>\n",
              "      <th>3</th>\n",
              "      <td>lgbmc_mult</td>\n",
              "      <td>1.000000</td>\n",
              "      <td>0.762447</td>\n",
              "    </tr>\n",
              "    <tr>\n",
              "      <th>4</th>\n",
              "      <td>logreg_mult</td>\n",
              "      <td>0.777889</td>\n",
              "      <td>0.657606</td>\n",
              "    </tr>\n",
              "  </tbody>\n",
              "</table>\n",
              "</div>"
            ],
            "text/plain": [
              "         model  accuracy_train  accuracy_test\n",
              "0       cb_ova        0.617538       0.589149\n",
              "1      cb_mult        0.786421       0.700904\n",
              "2  logreg_mult        0.761636       0.655000\n",
              "3   lgbmc_mult        1.000000       0.762447\n",
              "4  logreg_mult        0.777889       0.657606"
            ]
          },
          "execution_count": 59,
          "metadata": {},
          "output_type": "execute_result"
        }
      ],
      "source": [
        "stat"
      ]
    },
    {
      "cell_type": "code",
      "execution_count": 60,
      "id": "61a60b5d",
      "metadata": {},
      "outputs": [],
      "source": []
    },
    {
      "cell_type": "code",
      "execution_count": 63,
      "id": "132ff3bf",
      "metadata": {},
      "outputs": [
        {
          "data": {
            "text/plain": [
              "{'reg_alpha': 0.5732563327292344,\n",
              " 'n_estimators': 0.20583518973591577,\n",
              " 'reg_lambda': 0.10353129781739594,\n",
              " 'colsample_bytree': 0.07211058720514611,\n",
              " 'min_child_weight': 0.04040003194369667,\n",
              " 'max_depth': 0.004866560568611221}"
            ]
          },
          "execution_count": 63,
          "metadata": {},
          "output_type": "execute_result"
        }
      ],
      "source": [
        "optuna.importance.get_param_importances(study_LGBMClassifier)"
      ]
    },
    {
      "cell_type": "code",
      "execution_count": 129,
      "id": "01fd36b2",
      "metadata": {},
      "outputs": [
        {
          "name": "stdout",
          "output_type": "stream",
          "text": [
            "0:\tlearn: 0.1805925\ttest: 0.1625296\tbest: 0.1625296 (0)\ttotal: 1.68s\tremaining: 28m\n",
            "1:\tlearn: 0.2842790\ttest: 0.2721631\tbest: 0.2721631 (1)\ttotal: 3.13s\tremaining: 26m 1s\n",
            "2:\tlearn: 0.3290854\ttest: 0.3104314\tbest: 0.3104314 (2)\ttotal: 4.67s\tremaining: 25m 53s\n",
            "3:\tlearn: 0.3655437\ttest: 0.3432329\tbest: 0.3432329 (3)\ttotal: 5.97s\tremaining: 24m 45s\n",
            "4:\tlearn: 0.3940972\ttest: 0.3671690\tbest: 0.3671690 (4)\ttotal: 7.51s\tremaining: 24m 55s\n",
            "5:\tlearn: 0.4135638\ttest: 0.3874113\tbest: 0.3874113 (5)\ttotal: 9.03s\tremaining: 24m 56s\n",
            "6:\tlearn: 0.4433732\ttest: 0.4196217\tbest: 0.4196217 (6)\ttotal: 10.5s\tremaining: 24m 56s\n",
            "7:\tlearn: 0.4564125\ttest: 0.4382388\tbest: 0.4382388 (7)\ttotal: 12s\tremaining: 24m 52s\n",
            "8:\tlearn: 0.4753620\ttest: 0.4541962\tbest: 0.4541962 (8)\ttotal: 13.6s\tremaining: 24m 56s\n",
            "9:\tlearn: 0.4780585\ttest: 0.4626182\tbest: 0.4626182 (9)\ttotal: 15.1s\tremaining: 24m 58s\n",
            "10:\tlearn: 0.4891401\ttest: 0.4694149\tbest: 0.4694149 (10)\ttotal: 16.8s\tremaining: 25m 10s\n",
            "11:\tlearn: 0.4968602\ttest: 0.4815307\tbest: 0.4815307 (11)\ttotal: 18.6s\tremaining: 25m 31s\n",
            "12:\tlearn: 0.5023641\ttest: 0.4890662\tbest: 0.4890662 (12)\ttotal: 20.1s\tremaining: 25m 28s\n",
            "13:\tlearn: 0.5037308\ttest: 0.4898050\tbest: 0.4898050 (13)\ttotal: 21.7s\tremaining: 25m 26s\n",
            "14:\tlearn: 0.5099365\ttest: 0.4952719\tbest: 0.4952719 (14)\ttotal: 23.5s\tremaining: 25m 42s\n",
            "15:\tlearn: 0.5159574\ttest: 0.5008865\tbest: 0.5008865 (15)\ttotal: 25.5s\tremaining: 26m 8s\n",
            "16:\tlearn: 0.5203162\ttest: 0.5041371\tbest: 0.5041371 (16)\ttotal: 27.1s\tremaining: 26m 5s\n",
            "17:\tlearn: 0.5212027\ttest: 0.5023641\tbest: 0.5041371 (16)\ttotal: 28.6s\tremaining: 26m 1s\n",
            "18:\tlearn: 0.5233452\ttest: 0.5085697\tbest: 0.5085697 (18)\ttotal: 30.2s\tremaining: 25m 58s\n",
            "19:\tlearn: 0.5281841\ttest: 0.5119681\tbest: 0.5119681 (19)\ttotal: 31.8s\tremaining: 25m 57s\n",
            "20:\tlearn: 0.5301049\ttest: 0.5164007\tbest: 0.5164007 (20)\ttotal: 33.5s\tremaining: 26m 4s\n",
            "21:\tlearn: 0.5298463\ttest: 0.5165485\tbest: 0.5165485 (21)\ttotal: 35.5s\tremaining: 26m 17s\n",
            "22:\tlearn: 0.5287751\ttest: 0.5162530\tbest: 0.5165485 (21)\ttotal: 37.2s\tremaining: 26m 21s\n",
            "23:\tlearn: 0.5331339\ttest: 0.5174350\tbest: 0.5174350 (23)\ttotal: 38.9s\tremaining: 26m 23s\n",
            "24:\tlearn: 0.5400414\ttest: 0.5243794\tbest: 0.5243794 (24)\ttotal: 40.7s\tremaining: 26m 26s\n",
            "25:\tlearn: 0.5417405\ttest: 0.5257092\tbest: 0.5257092 (25)\ttotal: 42.6s\tremaining: 26m 35s\n",
            "26:\tlearn: 0.5465056\ttest: 0.5301418\tbest: 0.5301418 (26)\ttotal: 44.6s\tremaining: 26m 47s\n",
            "27:\tlearn: 0.5502733\ttest: 0.5322104\tbest: 0.5322104 (27)\ttotal: 46.2s\tremaining: 26m 43s\n",
            "28:\tlearn: 0.5528960\ttest: 0.5351655\tbest: 0.5351655 (28)\ttotal: 47.9s\tremaining: 26m 45s\n",
            "29:\tlearn: 0.5544474\ttest: 0.5375296\tbest: 0.5375296 (29)\ttotal: 49.4s\tremaining: 26m 37s\n",
            "30:\tlearn: 0.5550015\ttest: 0.5388593\tbest: 0.5388593 (30)\ttotal: 51.2s\tremaining: 26m 39s\n",
            "31:\tlearn: 0.5580304\ttest: 0.5404846\tbest: 0.5404846 (31)\ttotal: 53.1s\tremaining: 26m 45s\n",
            "32:\tlearn: 0.5622045\ttest: 0.5444740\tbest: 0.5444740 (32)\ttotal: 55s\tremaining: 26m 50s\n",
            "33:\tlearn: 0.5610963\ttest: 0.5434397\tbest: 0.5444740 (32)\ttotal: 57.1s\tremaining: 27m 1s\n",
            "34:\tlearn: 0.5610594\ttest: 0.5459515\tbest: 0.5459515 (34)\ttotal: 59.1s\tremaining: 27m 10s\n",
            "35:\tlearn: 0.5636451\ttest: 0.5472813\tbest: 0.5472813 (35)\ttotal: 1m\tremaining: 27m 9s\n",
            "36:\tlearn: 0.5680038\ttest: 0.5493499\tbest: 0.5493499 (36)\ttotal: 1m 2s\tremaining: 27m 6s\n",
            "37:\tlearn: 0.5691489\ttest: 0.5534870\tbest: 0.5534870 (37)\ttotal: 1m 4s\tremaining: 27m 1s\n",
            "38:\tlearn: 0.5713652\ttest: 0.5554078\tbest: 0.5554078 (38)\ttotal: 1m 5s\tremaining: 27m 3s\n",
            "39:\tlearn: 0.5749852\ttest: 0.5583629\tbest: 0.5583629 (39)\ttotal: 1m 7s\tremaining: 26m 58s\n",
            "40:\tlearn: 0.5777187\ttest: 0.5605792\tbest: 0.5605792 (40)\ttotal: 1m 9s\tremaining: 26m 55s\n",
            "41:\tlearn: 0.5806738\ttest: 0.5622045\tbest: 0.5622045 (41)\ttotal: 1m 10s\tremaining: 26m 49s\n",
            "42:\tlearn: 0.5813387\ttest: 0.5645686\tbest: 0.5645686 (42)\ttotal: 1m 11s\tremaining: 26m 41s\n",
            "43:\tlearn: 0.5851433\ttest: 0.5660461\tbest: 0.5660461 (43)\ttotal: 1m 13s\tremaining: 26m 43s\n",
            "44:\tlearn: 0.5863623\ttest: 0.5675236\tbest: 0.5675236 (44)\ttotal: 1m 15s\tremaining: 26m 38s\n",
            "45:\tlearn: 0.5893543\ttest: 0.5716608\tbest: 0.5716608 (45)\ttotal: 1m 17s\tremaining: 26m 40s\n",
            "46:\tlearn: 0.5912012\ttest: 0.5721040\tbest: 0.5721040 (46)\ttotal: 1m 18s\tremaining: 26m 34s\n",
            "47:\tlearn: 0.5934545\ttest: 0.5747636\tbest: 0.5747636 (47)\ttotal: 1m 20s\tremaining: 26m 36s\n",
            "48:\tlearn: 0.5938978\ttest: 0.5765366\tbest: 0.5765366 (48)\ttotal: 1m 21s\tremaining: 26m 29s\n",
            "49:\tlearn: 0.5957816\ttest: 0.5790485\tbest: 0.5790485 (49)\ttotal: 1m 23s\tremaining: 26m 29s\n",
            "50:\tlearn: 0.5949690\ttest: 0.5790485\tbest: 0.5790485 (49)\ttotal: 1m 25s\tremaining: 26m 23s\n",
            "51:\tlearn: 0.5955969\ttest: 0.5797872\tbest: 0.5797872 (51)\ttotal: 1m 26s\tremaining: 26m 21s\n",
            "52:\tlearn: 0.5964465\ttest: 0.5786052\tbest: 0.5797872 (51)\ttotal: 1m 28s\tremaining: 26m 22s\n",
            "53:\tlearn: 0.5988106\ttest: 0.5811170\tbest: 0.5811170 (53)\ttotal: 1m 30s\tremaining: 26m 20s\n",
            "54:\tlearn: 0.5999557\ttest: 0.5824468\tbest: 0.5824468 (54)\ttotal: 1m 31s\tremaining: 26m 18s\n",
            "55:\tlearn: 0.5992538\ttest: 0.5820035\tbest: 0.5824468 (54)\ttotal: 1m 33s\tremaining: 26m 18s\n",
            "56:\tlearn: 0.5997340\ttest: 0.5839243\tbest: 0.5839243 (56)\ttotal: 1m 35s\tremaining: 26m 25s\n",
            "57:\tlearn: 0.6015810\ttest: 0.5848109\tbest: 0.5848109 (57)\ttotal: 1m 37s\tremaining: 26m 26s\n",
            "58:\tlearn: 0.6022828\ttest: 0.5864362\tbest: 0.5864362 (58)\ttotal: 1m 39s\tremaining: 26m 26s\n",
            "59:\tlearn: 0.6033910\ttest: 0.5858452\tbest: 0.5864362 (58)\ttotal: 1m 41s\tremaining: 26m 26s\n",
            "60:\tlearn: 0.6039820\ttest: 0.5868794\tbest: 0.5868794 (60)\ttotal: 1m 43s\tremaining: 26m 25s\n",
            "61:\tlearn: 0.6042036\ttest: 0.5861407\tbest: 0.5868794 (60)\ttotal: 1m 44s\tremaining: 26m 24s\n",
            "62:\tlearn: 0.6040928\ttest: 0.5862884\tbest: 0.5868794 (60)\ttotal: 1m 46s\tremaining: 26m 23s\n",
            "63:\tlearn: 0.6051271\ttest: 0.5879137\tbest: 0.5879137 (63)\ttotal: 1m 48s\tremaining: 26m 23s\n",
            "64:\tlearn: 0.6066415\ttest: 0.5896868\tbest: 0.5896868 (64)\ttotal: 1m 49s\tremaining: 26m 21s\n",
            "65:\tlearn: 0.6079713\ttest: 0.5907210\tbest: 0.5907210 (65)\ttotal: 1m 51s\tremaining: 26m 21s\n",
            "66:\tlearn: 0.6079713\ttest: 0.5910165\tbest: 0.5910165 (66)\ttotal: 1m 53s\tremaining: 26m 19s\n",
            "67:\tlearn: 0.6095966\ttest: 0.5920508\tbest: 0.5920508 (67)\ttotal: 1m 55s\tremaining: 26m 16s\n",
            "68:\tlearn: 0.6104093\ttest: 0.5926418\tbest: 0.5926418 (68)\ttotal: 1m 56s\tremaining: 26m 17s\n",
            "69:\tlearn: 0.6108156\ttest: 0.5935284\tbest: 0.5935284 (69)\ttotal: 1m 58s\tremaining: 26m 16s\n",
            "70:\tlearn: 0.6105940\ttest: 0.5923463\tbest: 0.5935284 (69)\ttotal: 2m\tremaining: 26m 20s\n",
            "71:\tlearn: 0.6111111\ttest: 0.5930851\tbest: 0.5935284 (69)\ttotal: 2m 2s\tremaining: 26m 20s\n",
            "72:\tlearn: 0.6128472\ttest: 0.5939716\tbest: 0.5939716 (72)\ttotal: 2m 4s\tremaining: 26m 18s\n",
            "73:\tlearn: 0.6136968\ttest: 0.5954492\tbest: 0.5954492 (73)\ttotal: 2m 5s\tremaining: 26m 15s\n",
            "74:\tlearn: 0.6147680\ttest: 0.5960402\tbest: 0.5960402 (74)\ttotal: 2m 7s\tremaining: 26m 12s\n",
            "75:\tlearn: 0.6165041\ttest: 0.5984043\tbest: 0.5984043 (75)\ttotal: 2m 9s\tremaining: 26m 11s\n",
            "76:\tlearn: 0.6170213\ttest: 0.5995863\tbest: 0.5995863 (76)\ttotal: 2m 11s\tremaining: 26m 12s\n",
            "77:\tlearn: 0.6181294\ttest: 0.6015071\tbest: 0.6015071 (77)\ttotal: 2m 13s\tremaining: 26m 12s\n",
            "78:\tlearn: 0.6186835\ttest: 0.6004728\tbest: 0.6015071 (77)\ttotal: 2m 14s\tremaining: 26m 11s\n",
            "79:\tlearn: 0.6194592\ttest: 0.6022459\tbest: 0.6022459 (79)\ttotal: 2m 16s\tremaining: 26m 8s\n",
            "80:\tlearn: 0.6203088\ttest: 0.6023936\tbest: 0.6023936 (80)\ttotal: 2m 17s\tremaining: 26m 4s\n",
            "81:\tlearn: 0.6216755\ttest: 0.6029846\tbest: 0.6029846 (81)\ttotal: 2m 19s\tremaining: 26m 4s\n",
            "82:\tlearn: 0.6215278\ttest: 0.6044622\tbest: 0.6044622 (82)\ttotal: 2m 21s\tremaining: 26m 4s\n",
            "83:\tlearn: 0.6223774\ttest: 0.6049054\tbest: 0.6049054 (83)\ttotal: 2m 23s\tremaining: 26m\n",
            "84:\tlearn: 0.6225990\ttest: 0.6056442\tbest: 0.6056442 (84)\ttotal: 2m 24s\tremaining: 25m 59s\n",
            "85:\tlearn: 0.6232639\ttest: 0.6068262\tbest: 0.6068262 (85)\ttotal: 2m 26s\tremaining: 25m 56s\n",
            "86:\tlearn: 0.6249631\ttest: 0.6081560\tbest: 0.6081560 (86)\ttotal: 2m 28s\tremaining: 25m 54s\n",
            "87:\tlearn: 0.6256280\ttest: 0.6083038\tbest: 0.6083038 (87)\ttotal: 2m 30s\tremaining: 25m 56s\n",
            "88:\tlearn: 0.6261451\ttest: 0.6090426\tbest: 0.6090426 (88)\ttotal: 2m 32s\tremaining: 25m 56s\n",
            "89:\tlearn: 0.6262559\ttest: 0.6090426\tbest: 0.6090426 (88)\ttotal: 2m 34s\tremaining: 25m 57s\n",
            "90:\tlearn: 0.6265145\ttest: 0.6081560\tbest: 0.6090426 (88)\ttotal: 2m 35s\tremaining: 25m 58s\n",
            "91:\tlearn: 0.6275488\ttest: 0.6088948\tbest: 0.6090426 (88)\ttotal: 2m 37s\tremaining: 25m 57s\n",
            "92:\tlearn: 0.6283614\ttest: 0.6083038\tbest: 0.6090426 (88)\ttotal: 2m 39s\tremaining: 25m 59s\n",
            "93:\tlearn: 0.6283245\ttest: 0.6087470\tbest: 0.6090426 (88)\ttotal: 2m 41s\tremaining: 25m 59s\n",
            "94:\tlearn: 0.6290263\ttest: 0.6100768\tbest: 0.6100768 (94)\ttotal: 2m 43s\tremaining: 26m\n",
            "95:\tlearn: 0.6300606\ttest: 0.6115544\tbest: 0.6115544 (95)\ttotal: 2m 45s\tremaining: 25m 56s\n",
            "96:\tlearn: 0.6309840\ttest: 0.6115544\tbest: 0.6115544 (95)\ttotal: 2m 47s\tremaining: 25m 55s\n",
            "97:\tlearn: 0.6314642\ttest: 0.6117021\tbest: 0.6117021 (97)\ttotal: 2m 48s\tremaining: 25m 55s\n",
            "98:\tlearn: 0.6314642\ttest: 0.6125887\tbest: 0.6125887 (98)\ttotal: 2m 50s\tremaining: 25m 55s\n",
            "99:\tlearn: 0.6329048\ttest: 0.6128842\tbest: 0.6128842 (99)\ttotal: 2m 52s\tremaining: 25m 53s\n",
            "100:\tlearn: 0.6328679\ttest: 0.6130319\tbest: 0.6130319 (100)\ttotal: 2m 54s\tremaining: 25m 49s\n",
            "101:\tlearn: 0.6338652\ttest: 0.6125887\tbest: 0.6130319 (100)\ttotal: 2m 56s\tremaining: 25m 49s\n",
            "102:\tlearn: 0.6344563\ttest: 0.6140662\tbest: 0.6140662 (102)\ttotal: 2m 57s\tremaining: 25m 47s\n",
            "103:\tlearn: 0.6356014\ttest: 0.6145095\tbest: 0.6145095 (103)\ttotal: 2m 59s\tremaining: 25m 44s\n",
            "104:\tlearn: 0.6354167\ttest: 0.6145095\tbest: 0.6145095 (103)\ttotal: 3m 1s\tremaining: 25m 43s\n",
            "105:\tlearn: 0.6355644\ttest: 0.6148050\tbest: 0.6148050 (105)\ttotal: 3m 2s\tremaining: 25m 41s\n",
            "106:\tlearn: 0.6360816\ttest: 0.6153960\tbest: 0.6153960 (106)\ttotal: 3m 4s\tremaining: 25m 39s\n",
            "107:\tlearn: 0.6373375\ttest: 0.6167258\tbest: 0.6167258 (107)\ttotal: 3m 6s\tremaining: 25m 37s\n",
            "108:\tlearn: 0.6375222\ttest: 0.6177600\tbest: 0.6177600 (108)\ttotal: 3m 8s\tremaining: 25m 39s\n",
            "109:\tlearn: 0.6395538\ttest: 0.6196809\tbest: 0.6196809 (109)\ttotal: 3m 10s\tremaining: 25m 38s\n",
            "110:\tlearn: 0.6396277\ttest: 0.6195331\tbest: 0.6196809 (109)\ttotal: 3m 12s\tremaining: 25m 38s\n",
            "111:\tlearn: 0.6402556\ttest: 0.6196809\tbest: 0.6196809 (109)\ttotal: 3m 14s\tremaining: 25m 39s\n",
            "112:\tlearn: 0.6409574\ttest: 0.6213061\tbest: 0.6213061 (112)\ttotal: 3m 16s\tremaining: 25m 39s\n",
            "113:\tlearn: 0.6409574\ttest: 0.6211584\tbest: 0.6213061 (112)\ttotal: 3m 17s\tremaining: 25m 38s\n",
            "114:\tlearn: 0.6412899\ttest: 0.6216017\tbest: 0.6216017 (114)\ttotal: 3m 19s\tremaining: 25m 36s\n",
            "115:\tlearn: 0.6418070\ttest: 0.6217494\tbest: 0.6217494 (115)\ttotal: 3m 21s\tremaining: 25m 33s\n",
            "116:\tlearn: 0.6422503\ttest: 0.6220449\tbest: 0.6220449 (116)\ttotal: 3m 23s\tremaining: 25m 32s\n",
            "117:\tlearn: 0.6423980\ttest: 0.6226359\tbest: 0.6226359 (117)\ttotal: 3m 24s\tremaining: 25m 30s\n",
            "118:\tlearn: 0.6425827\ttest: 0.6226359\tbest: 0.6226359 (117)\ttotal: 3m 26s\tremaining: 25m 30s\n",
            "119:\tlearn: 0.6436540\ttest: 0.6230792\tbest: 0.6230792 (119)\ttotal: 3m 28s\tremaining: 25m 30s\n",
            "120:\tlearn: 0.6436540\ttest: 0.6238180\tbest: 0.6238180 (120)\ttotal: 3m 30s\tremaining: 25m 27s\n",
            "121:\tlearn: 0.6437648\ttest: 0.6239657\tbest: 0.6239657 (121)\ttotal: 3m 32s\tremaining: 25m 26s\n",
            "122:\tlearn: 0.6445405\ttest: 0.6245567\tbest: 0.6245567 (122)\ttotal: 3m 33s\tremaining: 25m 23s\n",
            "123:\tlearn: 0.6456117\ttest: 0.6244090\tbest: 0.6245567 (122)\ttotal: 3m 35s\tremaining: 25m 20s\n",
            "124:\tlearn: 0.6460550\ttest: 0.6247045\tbest: 0.6247045 (124)\ttotal: 3m 36s\tremaining: 25m 18s\n",
            "125:\tlearn: 0.6457225\ttest: 0.6252955\tbest: 0.6252955 (125)\ttotal: 3m 38s\tremaining: 25m 16s\n",
            "126:\tlearn: 0.6465721\ttest: 0.6255910\tbest: 0.6255910 (126)\ttotal: 3m 40s\tremaining: 25m 14s\n",
            "127:\tlearn: 0.6472739\ttest: 0.6257388\tbest: 0.6257388 (127)\ttotal: 3m 42s\tremaining: 25m 12s\n",
            "128:\tlearn: 0.6486037\ttest: 0.6270686\tbest: 0.6270686 (128)\ttotal: 3m 43s\tremaining: 25m 10s\n",
            "129:\tlearn: 0.6487145\ttest: 0.6275118\tbest: 0.6275118 (129)\ttotal: 3m 45s\tremaining: 25m 9s\n",
            "130:\tlearn: 0.6491578\ttest: 0.6275118\tbest: 0.6275118 (129)\ttotal: 3m 47s\tremaining: 25m 6s\n",
            "131:\tlearn: 0.6496011\ttest: 0.6278073\tbest: 0.6278073 (131)\ttotal: 3m 49s\tremaining: 25m 6s\n",
            "132:\tlearn: 0.6503768\ttest: 0.6285461\tbest: 0.6285461 (132)\ttotal: 3m 51s\tremaining: 25m 6s\n",
            "133:\tlearn: 0.6512264\ttest: 0.6291371\tbest: 0.6291371 (133)\ttotal: 3m 53s\tremaining: 25m 7s\n",
            "134:\tlearn: 0.6517435\ttest: 0.6286939\tbest: 0.6291371 (133)\ttotal: 3m 55s\tremaining: 25m 6s\n",
            "135:\tlearn: 0.6517435\ttest: 0.6297281\tbest: 0.6297281 (135)\ttotal: 3m 56s\tremaining: 25m 5s\n",
            "136:\tlearn: 0.6525192\ttest: 0.6298759\tbest: 0.6298759 (136)\ttotal: 3m 58s\tremaining: 25m 3s\n",
            "137:\tlearn: 0.6533319\ttest: 0.6310579\tbest: 0.6310579 (137)\ttotal: 4m\tremaining: 25m\n",
            "138:\tlearn: 0.6533319\ttest: 0.6303191\tbest: 0.6310579 (137)\ttotal: 4m 2s\tremaining: 24m 59s\n",
            "139:\tlearn: 0.6541814\ttest: 0.6313534\tbest: 0.6313534 (139)\ttotal: 4m 3s\tremaining: 24m 57s\n",
            "140:\tlearn: 0.6546986\ttest: 0.6319444\tbest: 0.6319444 (140)\ttotal: 4m 5s\tremaining: 24m 57s\n",
            "141:\tlearn: 0.6548094\ttest: 0.6325355\tbest: 0.6325355 (141)\ttotal: 4m 7s\tremaining: 24m 55s\n",
            "142:\tlearn: 0.6555112\ttest: 0.6316489\tbest: 0.6325355 (141)\ttotal: 4m 9s\tremaining: 24m 55s\n",
            "143:\tlearn: 0.6557698\ttest: 0.6319444\tbest: 0.6325355 (141)\ttotal: 4m 11s\tremaining: 24m 54s\n",
            "144:\tlearn: 0.6559914\ttest: 0.6328310\tbest: 0.6328310 (144)\ttotal: 4m 13s\tremaining: 24m 53s\n",
            "145:\tlearn: 0.6573582\ttest: 0.6335697\tbest: 0.6335697 (145)\ttotal: 4m 15s\tremaining: 24m 52s\n",
            "146:\tlearn: 0.6578384\ttest: 0.6353428\tbest: 0.6353428 (146)\ttotal: 4m 17s\tremaining: 24m 51s\n",
            "147:\tlearn: 0.6573582\ttest: 0.6341608\tbest: 0.6353428 (146)\ttotal: 4m 18s\tremaining: 24m 50s\n",
            "148:\tlearn: 0.6584294\ttest: 0.6353428\tbest: 0.6353428 (146)\ttotal: 4m 20s\tremaining: 24m 49s\n",
            "149:\tlearn: 0.6585402\ttest: 0.6354905\tbest: 0.6354905 (149)\ttotal: 4m 22s\tremaining: 24m 48s\n",
            "150:\tlearn: 0.6584294\ttest: 0.6346040\tbest: 0.6354905 (149)\ttotal: 4m 24s\tremaining: 24m 46s\n",
            "151:\tlearn: 0.6588726\ttest: 0.6341608\tbest: 0.6354905 (149)\ttotal: 4m 26s\tremaining: 24m 45s\n",
            "152:\tlearn: 0.6594637\ttest: 0.6362293\tbest: 0.6362293 (152)\ttotal: 4m 28s\tremaining: 24m 45s\n",
            "153:\tlearn: 0.6601285\ttest: 0.6372636\tbest: 0.6372636 (153)\ttotal: 4m 30s\tremaining: 24m 43s\n",
            "154:\tlearn: 0.6607934\ttest: 0.6382979\tbest: 0.6382979 (154)\ttotal: 4m 31s\tremaining: 24m 42s\n",
            "155:\tlearn: 0.6606457\ttest: 0.6387411\tbest: 0.6387411 (155)\ttotal: 4m 33s\tremaining: 24m 41s\n",
            "156:\tlearn: 0.6620124\ttest: 0.6385934\tbest: 0.6387411 (155)\ttotal: 4m 35s\tremaining: 24m 38s\n",
            "157:\tlearn: 0.6619016\ttest: 0.6387411\tbest: 0.6387411 (155)\ttotal: 4m 37s\tremaining: 24m 36s\n",
            "158:\tlearn: 0.6622710\ttest: 0.6381501\tbest: 0.6387411 (155)\ttotal: 4m 38s\tremaining: 24m 35s\n",
            "159:\tlearn: 0.6625665\ttest: 0.6390366\tbest: 0.6390366 (159)\ttotal: 4m 40s\tremaining: 24m 35s\n",
            "160:\tlearn: 0.6632314\ttest: 0.6399232\tbest: 0.6399232 (160)\ttotal: 4m 42s\tremaining: 24m 34s\n",
            "161:\tlearn: 0.6631206\ttest: 0.6399232\tbest: 0.6399232 (160)\ttotal: 4m 44s\tremaining: 24m 32s\n",
            "162:\tlearn: 0.6639332\ttest: 0.6405142\tbest: 0.6405142 (162)\ttotal: 4m 46s\tremaining: 24m 31s\n",
            "163:\tlearn: 0.6645981\ttest: 0.6408097\tbest: 0.6408097 (163)\ttotal: 4m 48s\tremaining: 24m 28s\n",
            "164:\tlearn: 0.6652999\ttest: 0.6408097\tbest: 0.6408097 (163)\ttotal: 4m 49s\tremaining: 24m 26s\n",
            "165:\tlearn: 0.6655954\ttest: 0.6416962\tbest: 0.6416962 (165)\ttotal: 4m 51s\tremaining: 24m 25s\n",
            "166:\tlearn: 0.6657432\ttest: 0.6418440\tbest: 0.6418440 (166)\ttotal: 4m 53s\tremaining: 24m 24s\n",
            "167:\tlearn: 0.6659279\ttest: 0.6419917\tbest: 0.6419917 (167)\ttotal: 4m 55s\tremaining: 24m 23s\n",
            "168:\tlearn: 0.6662973\ttest: 0.6427305\tbest: 0.6427305 (168)\ttotal: 4m 57s\tremaining: 24m 22s\n",
            "169:\tlearn: 0.6662234\ttest: 0.6433215\tbest: 0.6433215 (169)\ttotal: 4m 59s\tremaining: 24m 20s\n",
            "170:\tlearn: 0.6668144\ttest: 0.6434693\tbest: 0.6434693 (170)\ttotal: 5m 1s\tremaining: 24m 19s\n",
            "171:\tlearn: 0.6673316\ttest: 0.6445035\tbest: 0.6445035 (171)\ttotal: 5m 2s\tremaining: 24m 17s\n",
            "172:\tlearn: 0.6675532\ttest: 0.6446513\tbest: 0.6446513 (172)\ttotal: 5m 4s\tremaining: 24m 16s\n",
            "173:\tlearn: 0.6681073\ttest: 0.6446513\tbest: 0.6446513 (172)\ttotal: 5m 6s\tremaining: 24m 15s\n",
            "174:\tlearn: 0.6685875\ttest: 0.6455378\tbest: 0.6455378 (174)\ttotal: 5m 8s\tremaining: 24m 13s\n",
            "175:\tlearn: 0.6690307\ttest: 0.6453901\tbest: 0.6455378 (174)\ttotal: 5m 10s\tremaining: 24m 13s\n",
            "176:\tlearn: 0.6699911\ttest: 0.6453901\tbest: 0.6455378 (174)\ttotal: 5m 12s\tremaining: 24m 12s\n",
            "177:\tlearn: 0.6698803\ttest: 0.6456856\tbest: 0.6456856 (177)\ttotal: 5m 14s\tremaining: 24m 10s\n",
            "178:\tlearn: 0.6703975\ttest: 0.6467199\tbest: 0.6467199 (178)\ttotal: 5m 15s\tremaining: 24m 8s\n",
            "179:\tlearn: 0.6708777\ttest: 0.6474586\tbest: 0.6474586 (179)\ttotal: 5m 17s\tremaining: 24m 6s\n",
            "180:\tlearn: 0.6712101\ttest: 0.6479019\tbest: 0.6479019 (180)\ttotal: 5m 19s\tremaining: 24m 6s\n",
            "181:\tlearn: 0.6717642\ttest: 0.6481974\tbest: 0.6481974 (181)\ttotal: 5m 21s\tremaining: 24m 5s\n",
            "182:\tlearn: 0.6717642\ttest: 0.6480496\tbest: 0.6481974 (181)\ttotal: 5m 23s\tremaining: 24m 3s\n",
            "183:\tlearn: 0.6719119\ttest: 0.6481974\tbest: 0.6481974 (181)\ttotal: 5m 25s\tremaining: 24m 2s\n",
            "184:\tlearn: 0.6722444\ttest: 0.6486407\tbest: 0.6486407 (184)\ttotal: 5m 27s\tremaining: 24m 1s\n",
            "185:\tlearn: 0.6727246\ttest: 0.6492317\tbest: 0.6492317 (185)\ttotal: 5m 28s\tremaining: 23m 59s\n",
            "186:\tlearn: 0.6727615\ttest: 0.6492317\tbest: 0.6492317 (185)\ttotal: 5m 30s\tremaining: 23m 58s\n",
            "187:\tlearn: 0.6732048\ttest: 0.6490839\tbest: 0.6492317 (185)\ttotal: 5m 32s\tremaining: 23m 56s\n",
            "188:\tlearn: 0.6740174\ttest: 0.6489362\tbest: 0.6492317 (185)\ttotal: 5m 34s\tremaining: 23m 56s\n",
            "189:\tlearn: 0.6748670\ttest: 0.6498227\tbest: 0.6498227 (189)\ttotal: 5m 36s\tremaining: 23m 55s\n",
            "190:\tlearn: 0.6749040\ttest: 0.6504137\tbest: 0.6504137 (190)\ttotal: 5m 38s\tremaining: 23m 53s\n",
            "191:\tlearn: 0.6753842\ttest: 0.6505615\tbest: 0.6505615 (191)\ttotal: 5m 40s\tremaining: 23m 52s\n",
            "192:\tlearn: 0.6756797\ttest: 0.6514480\tbest: 0.6514480 (192)\ttotal: 5m 42s\tremaining: 23m 50s\n",
            "193:\tlearn: 0.6757905\ttest: 0.6521868\tbest: 0.6521868 (193)\ttotal: 5m 44s\tremaining: 23m 50s\n",
            "194:\tlearn: 0.6761599\ttest: 0.6521868\tbest: 0.6521868 (193)\ttotal: 5m 46s\tremaining: 23m 49s\n",
            "195:\tlearn: 0.6766401\ttest: 0.6518913\tbest: 0.6521868 (193)\ttotal: 5m 48s\tremaining: 23m 49s\n",
            "196:\tlearn: 0.6768248\ttest: 0.6529255\tbest: 0.6529255 (196)\ttotal: 5m 50s\tremaining: 23m 48s\n",
            "197:\tlearn: 0.6769725\ttest: 0.6527778\tbest: 0.6529255 (196)\ttotal: 5m 52s\tremaining: 23m 47s\n",
            "198:\tlearn: 0.6774158\ttest: 0.6527778\tbest: 0.6529255 (196)\ttotal: 5m 54s\tremaining: 23m 46s\n",
            "199:\tlearn: 0.6783762\ttest: 0.6538121\tbest: 0.6538121 (199)\ttotal: 5m 56s\tremaining: 23m 45s\n",
            "200:\tlearn: 0.6781176\ttest: 0.6535165\tbest: 0.6538121 (199)\ttotal: 5m 58s\tremaining: 23m 43s\n",
            "201:\tlearn: 0.6787086\ttest: 0.6552896\tbest: 0.6552896 (201)\ttotal: 5m 59s\tremaining: 23m 41s\n",
            "202:\tlearn: 0.6791519\ttest: 0.6548463\tbest: 0.6552896 (201)\ttotal: 6m 1s\tremaining: 23m 40s\n",
            "203:\tlearn: 0.6794843\ttest: 0.6554374\tbest: 0.6554374 (203)\ttotal: 6m 3s\tremaining: 23m 38s\n",
            "204:\tlearn: 0.6802970\ttest: 0.6561761\tbest: 0.6561761 (204)\ttotal: 6m 5s\tremaining: 23m 37s\n",
            "205:\tlearn: 0.6800384\ttest: 0.6554374\tbest: 0.6561761 (204)\ttotal: 6m 7s\tremaining: 23m 37s\n",
            "206:\tlearn: 0.6803709\ttest: 0.6555851\tbest: 0.6561761 (204)\ttotal: 6m 9s\tremaining: 23m 35s\n",
            "207:\tlearn: 0.6810727\ttest: 0.6557329\tbest: 0.6561761 (204)\ttotal: 6m 11s\tremaining: 23m 34s\n",
            "208:\tlearn: 0.6812574\ttest: 0.6560284\tbest: 0.6561761 (204)\ttotal: 6m 13s\tremaining: 23m 31s\n",
            "209:\tlearn: 0.6815898\ttest: 0.6560284\tbest: 0.6561761 (204)\ttotal: 6m 15s\tremaining: 23m 31s\n",
            "210:\tlearn: 0.6817007\ttest: 0.6570626\tbest: 0.6570626 (210)\ttotal: 6m 17s\tremaining: 23m 30s\n",
            "211:\tlearn: 0.6821809\ttest: 0.6578014\tbest: 0.6578014 (211)\ttotal: 6m 19s\tremaining: 23m 30s\n",
            "212:\tlearn: 0.6822178\ttest: 0.6580969\tbest: 0.6580969 (212)\ttotal: 6m 21s\tremaining: 23m 29s\n",
            "213:\tlearn: 0.6829566\ttest: 0.6576537\tbest: 0.6580969 (212)\ttotal: 6m 23s\tremaining: 23m 29s\n",
            "214:\tlearn: 0.6831413\ttest: 0.6576537\tbest: 0.6580969 (212)\ttotal: 6m 25s\tremaining: 23m 28s\n",
            "215:\tlearn: 0.6834368\ttest: 0.6583924\tbest: 0.6583924 (215)\ttotal: 6m 28s\tremaining: 23m 28s\n",
            "216:\tlearn: 0.6841386\ttest: 0.6592790\tbest: 0.6592790 (216)\ttotal: 6m 30s\tremaining: 23m 28s\n",
            "217:\tlearn: 0.6845449\ttest: 0.6597222\tbest: 0.6597222 (217)\ttotal: 6m 32s\tremaining: 23m 27s\n",
            "218:\tlearn: 0.6849143\ttest: 0.6591312\tbest: 0.6597222 (217)\ttotal: 6m 33s\tremaining: 23m 24s\n",
            "219:\tlearn: 0.6846557\ttest: 0.6597222\tbest: 0.6597222 (217)\ttotal: 6m 35s\tremaining: 23m 22s\n",
            "220:\tlearn: 0.6848404\ttest: 0.6588357\tbest: 0.6597222 (217)\ttotal: 6m 37s\tremaining: 23m 22s\n",
            "221:\tlearn: 0.6851359\ttest: 0.6597222\tbest: 0.6597222 (217)\ttotal: 6m 39s\tremaining: 23m 21s\n",
            "222:\tlearn: 0.6852467\ttest: 0.6595745\tbest: 0.6597222 (217)\ttotal: 6m 41s\tremaining: 23m 19s\n",
            "223:\tlearn: 0.6860225\ttest: 0.6607565\tbest: 0.6607565 (223)\ttotal: 6m 43s\tremaining: 23m 18s\n",
            "224:\tlearn: 0.6866135\ttest: 0.6607565\tbest: 0.6607565 (223)\ttotal: 6m 45s\tremaining: 23m 17s\n",
            "225:\tlearn: 0.6868720\ttest: 0.6607565\tbest: 0.6607565 (223)\ttotal: 6m 47s\tremaining: 23m 16s\n",
            "226:\tlearn: 0.6869829\ttest: 0.6600177\tbest: 0.6607565 (223)\ttotal: 6m 49s\tremaining: 23m 15s\n",
            "227:\tlearn: 0.6873892\ttest: 0.6609043\tbest: 0.6609043 (227)\ttotal: 6m 51s\tremaining: 23m 14s\n",
            "228:\tlearn: 0.6873892\ttest: 0.6607565\tbest: 0.6609043 (227)\ttotal: 6m 53s\tremaining: 23m 13s\n",
            "229:\tlearn: 0.6876847\ttest: 0.6613475\tbest: 0.6613475 (229)\ttotal: 6m 55s\tremaining: 23m 12s\n",
            "230:\tlearn: 0.6878694\ttest: 0.6609043\tbest: 0.6613475 (229)\ttotal: 6m 57s\tremaining: 23m 11s\n",
            "231:\tlearn: 0.6883865\ttest: 0.6617908\tbest: 0.6617908 (231)\ttotal: 7m\tremaining: 23m 10s\n",
            "232:\tlearn: 0.6882018\ttest: 0.6611998\tbest: 0.6617908 (231)\ttotal: 7m 2s\tremaining: 23m 9s\n",
            "233:\tlearn: 0.6887190\ttest: 0.6611998\tbest: 0.6617908 (231)\ttotal: 7m 4s\tremaining: 23m 9s\n",
            "234:\tlearn: 0.6887928\ttest: 0.6609043\tbest: 0.6617908 (231)\ttotal: 7m 6s\tremaining: 23m 7s\n",
            "235:\tlearn: 0.6893469\ttest: 0.6616430\tbest: 0.6617908 (231)\ttotal: 7m 8s\tremaining: 23m 6s\n",
            "236:\tlearn: 0.6897533\ttest: 0.6616430\tbest: 0.6617908 (231)\ttotal: 7m 9s\tremaining: 23m 4s\n",
            "237:\tlearn: 0.6898641\ttest: 0.6619385\tbest: 0.6619385 (237)\ttotal: 7m 11s\tremaining: 23m 2s\n",
            "238:\tlearn: 0.6903073\ttest: 0.6620863\tbest: 0.6620863 (238)\ttotal: 7m 13s\tremaining: 23m\n",
            "239:\tlearn: 0.6904551\ttest: 0.6625296\tbest: 0.6625296 (239)\ttotal: 7m 15s\tremaining: 22m 59s\n",
            "240:\tlearn: 0.6910461\ttest: 0.6623818\tbest: 0.6625296 (239)\ttotal: 7m 17s\tremaining: 22m 57s\n",
            "241:\tlearn: 0.6913416\ttest: 0.6637116\tbest: 0.6637116 (241)\ttotal: 7m 19s\tremaining: 22m 55s\n",
            "242:\tlearn: 0.6917479\ttest: 0.6647459\tbest: 0.6647459 (242)\ttotal: 7m 21s\tremaining: 22m 55s\n",
            "243:\tlearn: 0.6921543\ttest: 0.6640071\tbest: 0.6647459 (242)\ttotal: 7m 23s\tremaining: 22m 53s\n",
            "244:\tlearn: 0.6917849\ttest: 0.6644504\tbest: 0.6647459 (242)\ttotal: 7m 25s\tremaining: 22m 52s\n",
            "245:\tlearn: 0.6925975\ttest: 0.6648936\tbest: 0.6648936 (245)\ttotal: 7m 27s\tremaining: 22m 51s\n",
            "246:\tlearn: 0.6932993\ttest: 0.6645981\tbest: 0.6648936 (245)\ttotal: 7m 29s\tremaining: 22m 49s\n",
            "247:\tlearn: 0.6933363\ttest: 0.6644504\tbest: 0.6648936 (245)\ttotal: 7m 31s\tremaining: 22m 48s\n",
            "248:\tlearn: 0.6942228\ttest: 0.6648936\tbest: 0.6648936 (245)\ttotal: 7m 33s\tremaining: 22m 47s\n",
            "249:\tlearn: 0.6945553\ttest: 0.6647459\tbest: 0.6648936 (245)\ttotal: 7m 35s\tremaining: 22m 45s\n",
            "250:\tlearn: 0.6947400\ttest: 0.6647459\tbest: 0.6648936 (245)\ttotal: 7m 37s\tremaining: 22m 44s\n",
            "251:\tlearn: 0.6950724\ttest: 0.6648936\tbest: 0.6648936 (245)\ttotal: 7m 39s\tremaining: 22m 42s\n",
            "252:\tlearn: 0.6950724\ttest: 0.6654846\tbest: 0.6654846 (252)\ttotal: 7m 40s\tremaining: 22m 40s\n",
            "253:\tlearn: 0.6955526\ttest: 0.6657801\tbest: 0.6657801 (253)\ttotal: 7m 42s\tremaining: 22m 38s\n",
            "254:\tlearn: 0.6957004\ttest: 0.6659279\tbest: 0.6659279 (254)\ttotal: 7m 44s\tremaining: 22m 37s\n",
            "255:\tlearn: 0.6960328\ttest: 0.6662234\tbest: 0.6662234 (255)\ttotal: 7m 46s\tremaining: 22m 36s\n",
            "256:\tlearn: 0.6962175\ttest: 0.6657801\tbest: 0.6662234 (255)\ttotal: 7m 48s\tremaining: 22m 34s\n",
            "257:\tlearn: 0.6961067\ttest: 0.6659279\tbest: 0.6662234 (255)\ttotal: 7m 50s\tremaining: 22m 33s\n",
            "258:\tlearn: 0.6963283\ttest: 0.6660757\tbest: 0.6662234 (255)\ttotal: 7m 52s\tremaining: 22m 32s\n",
            "259:\tlearn: 0.6965130\ttest: 0.6665189\tbest: 0.6665189 (259)\ttotal: 7m 54s\tremaining: 22m 30s\n",
            "260:\tlearn: 0.6968085\ttest: 0.6663712\tbest: 0.6665189 (259)\ttotal: 7m 56s\tremaining: 22m 29s\n",
            "261:\tlearn: 0.6969563\ttest: 0.6669622\tbest: 0.6669622 (261)\ttotal: 7m 58s\tremaining: 22m 28s\n",
            "262:\tlearn: 0.6975103\ttest: 0.6665189\tbest: 0.6669622 (261)\ttotal: 8m\tremaining: 22m 27s\n",
            "263:\tlearn: 0.6976581\ttest: 0.6665189\tbest: 0.6669622 (261)\ttotal: 8m 2s\tremaining: 22m 26s\n",
            "264:\tlearn: 0.6980275\ttest: 0.6665189\tbest: 0.6669622 (261)\ttotal: 8m 4s\tremaining: 22m 24s\n",
            "265:\tlearn: 0.6983969\ttest: 0.6668144\tbest: 0.6669622 (261)\ttotal: 8m 7s\tremaining: 22m 24s\n",
            "266:\tlearn: 0.6984338\ttest: 0.6677009\tbest: 0.6677009 (266)\ttotal: 8m 9s\tremaining: 22m 23s\n",
            "267:\tlearn: 0.6989879\ttest: 0.6681442\tbest: 0.6681442 (267)\ttotal: 8m 11s\tremaining: 22m 22s\n",
            "268:\tlearn: 0.6996528\ttest: 0.6677009\tbest: 0.6681442 (267)\ttotal: 8m 13s\tremaining: 22m 20s\n",
            "269:\tlearn: 0.6999113\ttest: 0.6674054\tbest: 0.6681442 (267)\ttotal: 8m 15s\tremaining: 22m 19s\n",
            "270:\tlearn: 0.6999852\ttest: 0.6684397\tbest: 0.6684397 (270)\ttotal: 8m 17s\tremaining: 22m 18s\n",
            "271:\tlearn: 0.7006871\ttest: 0.6690307\tbest: 0.6690307 (271)\ttotal: 8m 19s\tremaining: 22m 16s\n",
            "272:\tlearn: 0.7009456\ttest: 0.6688830\tbest: 0.6690307 (271)\ttotal: 8m 21s\tremaining: 22m 15s\n",
            "273:\tlearn: 0.7013889\ttest: 0.6699173\tbest: 0.6699173 (273)\ttotal: 8m 23s\tremaining: 22m 14s\n",
            "274:\tlearn: 0.7014628\ttest: 0.6696217\tbest: 0.6699173 (273)\ttotal: 8m 25s\tremaining: 22m 12s\n",
            "275:\tlearn: 0.7018322\ttest: 0.6700650\tbest: 0.6700650 (275)\ttotal: 8m 27s\tremaining: 22m 10s\n",
            "276:\tlearn: 0.7025709\ttest: 0.6699173\tbest: 0.6700650 (275)\ttotal: 8m 29s\tremaining: 22m 9s\n",
            "277:\tlearn: 0.7028295\ttest: 0.6694740\tbest: 0.6700650 (275)\ttotal: 8m 31s\tremaining: 22m 7s\n",
            "278:\tlearn: 0.7027187\ttest: 0.6700650\tbest: 0.6700650 (275)\ttotal: 8m 33s\tremaining: 22m 6s\n",
            "279:\tlearn: 0.7031250\ttest: 0.6706560\tbest: 0.6706560 (279)\ttotal: 8m 35s\tremaining: 22m 4s\n",
            "280:\tlearn: 0.7033097\ttest: 0.6709515\tbest: 0.6709515 (280)\ttotal: 8m 36s\tremaining: 22m 2s\n",
            "281:\tlearn: 0.7035313\ttest: 0.6708038\tbest: 0.6709515 (280)\ttotal: 8m 38s\tremaining: 22m 1s\n",
            "282:\tlearn: 0.7037160\ttest: 0.6708038\tbest: 0.6709515 (280)\ttotal: 8m 40s\tremaining: 21m 59s\n",
            "283:\tlearn: 0.7041223\ttest: 0.6708038\tbest: 0.6709515 (280)\ttotal: 8m 42s\tremaining: 21m 58s\n",
            "284:\tlearn: 0.7043809\ttest: 0.6710993\tbest: 0.6710993 (284)\ttotal: 8m 45s\tremaining: 21m 57s\n",
            "285:\tlearn: 0.7048980\ttest: 0.6713948\tbest: 0.6713948 (285)\ttotal: 8m 47s\tremaining: 21m 56s\n",
            "286:\tlearn: 0.7049350\ttest: 0.6718381\tbest: 0.6718381 (286)\ttotal: 8m 49s\tremaining: 21m 54s\n",
            "287:\tlearn: 0.7052674\ttest: 0.6715426\tbest: 0.6718381 (286)\ttotal: 8m 51s\tremaining: 21m 54s\n",
            "288:\tlearn: 0.7053044\ttest: 0.6719858\tbest: 0.6719858 (288)\ttotal: 8m 53s\tremaining: 21m 52s\n",
            "289:\tlearn: 0.7059693\ttest: 0.6721336\tbest: 0.6721336 (289)\ttotal: 8m 55s\tremaining: 21m 50s\n",
            "290:\tlearn: 0.7059693\ttest: 0.6721336\tbest: 0.6721336 (289)\ttotal: 8m 57s\tremaining: 21m 50s\n",
            "291:\tlearn: 0.7061909\ttest: 0.6718381\tbest: 0.6721336 (289)\ttotal: 8m 59s\tremaining: 21m 48s\n",
            "292:\tlearn: 0.7065233\ttest: 0.6713948\tbest: 0.6721336 (289)\ttotal: 9m 1s\tremaining: 21m 47s\n",
            "293:\tlearn: 0.7064864\ttest: 0.6718381\tbest: 0.6721336 (289)\ttotal: 9m 3s\tremaining: 21m 45s\n",
            "294:\tlearn: 0.7067080\ttest: 0.6715426\tbest: 0.6721336 (289)\ttotal: 9m 5s\tremaining: 21m 43s\n",
            "295:\tlearn: 0.7066711\ttest: 0.6718381\tbest: 0.6721336 (289)\ttotal: 9m 7s\tremaining: 21m 42s\n",
            "296:\tlearn: 0.7072252\ttest: 0.6722813\tbest: 0.6722813 (296)\ttotal: 9m 9s\tremaining: 21m 40s\n",
            "297:\tlearn: 0.7078531\ttest: 0.6721336\tbest: 0.6722813 (296)\ttotal: 9m 11s\tremaining: 21m 39s\n",
            "298:\tlearn: 0.7080009\ttest: 0.6716903\tbest: 0.6722813 (296)\ttotal: 9m 13s\tremaining: 21m 37s\n",
            "299:\tlearn: 0.7084072\ttest: 0.6718381\tbest: 0.6722813 (296)\ttotal: 9m 15s\tremaining: 21m 36s\n",
            "300:\tlearn: 0.7087766\ttest: 0.6715426\tbest: 0.6722813 (296)\ttotal: 9m 17s\tremaining: 21m 35s\n",
            "301:\tlearn: 0.7088135\ttest: 0.6730201\tbest: 0.6730201 (301)\ttotal: 9m 20s\tremaining: 21m 34s\n",
            "302:\tlearn: 0.7091090\ttest: 0.6734634\tbest: 0.6734634 (302)\ttotal: 9m 22s\tremaining: 21m 32s\n",
            "303:\tlearn: 0.7095523\ttest: 0.6737589\tbest: 0.6737589 (303)\ttotal: 9m 24s\tremaining: 21m 31s\n",
            "304:\tlearn: 0.7099217\ttest: 0.6731678\tbest: 0.6737589 (303)\ttotal: 9m 26s\tremaining: 21m 31s\n",
            "305:\tlearn: 0.7103650\ttest: 0.6740544\tbest: 0.6740544 (305)\ttotal: 9m 28s\tremaining: 21m 30s\n",
            "306:\tlearn: 0.7105496\ttest: 0.6746454\tbest: 0.6746454 (306)\ttotal: 9m 30s\tremaining: 21m 28s\n",
            "307:\tlearn: 0.7110668\ttest: 0.6749409\tbest: 0.6749409 (307)\ttotal: 9m 33s\tremaining: 21m 27s\n",
            "308:\tlearn: 0.7110668\ttest: 0.6749409\tbest: 0.6749409 (307)\ttotal: 9m 34s\tremaining: 21m 25s\n",
            "309:\tlearn: 0.7112515\ttest: 0.6743499\tbest: 0.6749409 (307)\ttotal: 9m 36s\tremaining: 21m 23s\n",
            "310:\tlearn: 0.7113254\ttest: 0.6749409\tbest: 0.6749409 (307)\ttotal: 9m 38s\tremaining: 21m 22s\n",
            "311:\tlearn: 0.7114731\ttest: 0.6750887\tbest: 0.6750887 (311)\ttotal: 9m 40s\tremaining: 21m 20s\n",
            "312:\tlearn: 0.7120272\ttest: 0.6749409\tbest: 0.6750887 (311)\ttotal: 9m 42s\tremaining: 21m 19s\n",
            "313:\tlearn: 0.7124335\ttest: 0.6749409\tbest: 0.6750887 (311)\ttotal: 9m 44s\tremaining: 21m 17s\n",
            "314:\tlearn: 0.7124704\ttest: 0.6749409\tbest: 0.6750887 (311)\ttotal: 9m 47s\tremaining: 21m 16s\n",
            "315:\tlearn: 0.7128398\ttest: 0.6750887\tbest: 0.6750887 (311)\ttotal: 9m 49s\tremaining: 21m 15s\n",
            "316:\tlearn: 0.7132092\ttest: 0.6753842\tbest: 0.6753842 (316)\ttotal: 9m 51s\tremaining: 21m 13s\n",
            "317:\tlearn: 0.7135417\ttest: 0.6753842\tbest: 0.6753842 (316)\ttotal: 9m 53s\tremaining: 21m 12s\n",
            "318:\tlearn: 0.7138741\ttest: 0.6758274\tbest: 0.6758274 (318)\ttotal: 9m 55s\tremaining: 21m 10s\n",
            "319:\tlearn: 0.7143543\ttest: 0.6762707\tbest: 0.6762707 (319)\ttotal: 9m 57s\tremaining: 21m 9s\n",
            "320:\tlearn: 0.7141696\ttest: 0.6764184\tbest: 0.6764184 (320)\ttotal: 9m 59s\tremaining: 21m 8s\n",
            "321:\tlearn: 0.7146498\ttest: 0.6764184\tbest: 0.6764184 (320)\ttotal: 10m 2s\tremaining: 21m 7s\n",
            "322:\tlearn: 0.7149084\ttest: 0.6768617\tbest: 0.6768617 (322)\ttotal: 10m 4s\tremaining: 21m 7s\n",
            "323:\tlearn: 0.7151300\ttest: 0.6765662\tbest: 0.6768617 (322)\ttotal: 10m 7s\tremaining: 21m 6s\n",
            "324:\tlearn: 0.7154625\ttest: 0.6768617\tbest: 0.6768617 (322)\ttotal: 10m 9s\tremaining: 21m 5s\n",
            "325:\tlearn: 0.7155733\ttest: 0.6768617\tbest: 0.6768617 (322)\ttotal: 10m 11s\tremaining: 21m 4s\n",
            "326:\tlearn: 0.7159057\ttest: 0.6770095\tbest: 0.6770095 (326)\ttotal: 10m 13s\tremaining: 21m 3s\n",
            "327:\tlearn: 0.7160165\ttest: 0.6771572\tbest: 0.6771572 (327)\ttotal: 10m 16s\tremaining: 21m 2s\n",
            "328:\tlearn: 0.7164598\ttest: 0.6768617\tbest: 0.6771572 (327)\ttotal: 10m 18s\tremaining: 21m 1s\n",
            "329:\tlearn: 0.7167923\ttest: 0.6765662\tbest: 0.6771572 (327)\ttotal: 10m 20s\tremaining: 20m 59s\n",
            "330:\tlearn: 0.7170878\ttest: 0.6773050\tbest: 0.6773050 (330)\ttotal: 10m 22s\tremaining: 20m 58s\n",
            "331:\tlearn: 0.7169770\ttest: 0.6768617\tbest: 0.6773050 (330)\ttotal: 10m 24s\tremaining: 20m 57s\n",
            "332:\tlearn: 0.7172355\ttest: 0.6776005\tbest: 0.6776005 (332)\ttotal: 10m 27s\tremaining: 20m 55s\n",
            "333:\tlearn: 0.7174202\ttest: 0.6776005\tbest: 0.6776005 (332)\ttotal: 10m 29s\tremaining: 20m 54s\n",
            "334:\tlearn: 0.7174941\ttest: 0.6780437\tbest: 0.6780437 (334)\ttotal: 10m 31s\tremaining: 20m 53s\n",
            "335:\tlearn: 0.7176788\ttest: 0.6777482\tbest: 0.6780437 (334)\ttotal: 10m 33s\tremaining: 20m 52s\n",
            "336:\tlearn: 0.7177527\ttest: 0.6780437\tbest: 0.6780437 (334)\ttotal: 10m 36s\tremaining: 20m 51s\n",
            "337:\tlearn: 0.7182698\ttest: 0.6792258\tbest: 0.6792258 (337)\ttotal: 10m 38s\tremaining: 20m 50s\n",
            "338:\tlearn: 0.7184545\ttest: 0.6784870\tbest: 0.6792258 (337)\ttotal: 10m 40s\tremaining: 20m 49s\n",
            "339:\tlearn: 0.7187500\ttest: 0.6787825\tbest: 0.6792258 (337)\ttotal: 10m 43s\tremaining: 20m 49s\n",
            "340:\tlearn: 0.7189347\ttest: 0.6787825\tbest: 0.6792258 (337)\ttotal: 10m 45s\tremaining: 20m 48s\n",
            "341:\tlearn: 0.7194518\ttest: 0.6793735\tbest: 0.6793735 (341)\ttotal: 10m 48s\tremaining: 20m 47s\n",
            "342:\tlearn: 0.7197843\ttest: 0.6798168\tbest: 0.6798168 (342)\ttotal: 10m 50s\tremaining: 20m 45s\n",
            "343:\tlearn: 0.7197843\ttest: 0.6799645\tbest: 0.6799645 (343)\ttotal: 10m 52s\tremaining: 20m 44s\n",
            "344:\tlearn: 0.7201537\ttest: 0.6804078\tbest: 0.6804078 (344)\ttotal: 10m 54s\tremaining: 20m 42s\n",
            "345:\tlearn: 0.7201537\ttest: 0.6801123\tbest: 0.6804078 (344)\ttotal: 10m 56s\tremaining: 20m 41s\n",
            "346:\tlearn: 0.7207447\ttest: 0.6801123\tbest: 0.6804078 (344)\ttotal: 10m 58s\tremaining: 20m 40s\n",
            "347:\tlearn: 0.7209663\ttest: 0.6811466\tbest: 0.6811466 (347)\ttotal: 11m 1s\tremaining: 20m 38s\n",
            "348:\tlearn: 0.7211879\ttest: 0.6804078\tbest: 0.6811466 (347)\ttotal: 11m 3s\tremaining: 20m 37s\n",
            "349:\tlearn: 0.7209663\ttest: 0.6812943\tbest: 0.6812943 (349)\ttotal: 11m 5s\tremaining: 20m 36s\n",
            "350:\tlearn: 0.7213726\ttest: 0.6811466\tbest: 0.6812943 (349)\ttotal: 11m 7s\tremaining: 20m 34s\n",
            "351:\tlearn: 0.7215943\ttest: 0.6815898\tbest: 0.6815898 (351)\ttotal: 11m 10s\tremaining: 20m 34s\n",
            "352:\tlearn: 0.7217790\ttest: 0.6817376\tbest: 0.6817376 (352)\ttotal: 11m 12s\tremaining: 20m 33s\n",
            "353:\tlearn: 0.7218898\ttest: 0.6820331\tbest: 0.6820331 (353)\ttotal: 11m 15s\tremaining: 20m 32s\n",
            "354:\tlearn: 0.7222222\ttest: 0.6817376\tbest: 0.6820331 (353)\ttotal: 11m 17s\tremaining: 20m 30s\n",
            "355:\tlearn: 0.7226655\ttest: 0.6817376\tbest: 0.6820331 (353)\ttotal: 11m 19s\tremaining: 20m 29s\n",
            "356:\tlearn: 0.7228871\ttest: 0.6820331\tbest: 0.6820331 (353)\ttotal: 11m 22s\tremaining: 20m 28s\n",
            "357:\tlearn: 0.7228132\ttest: 0.6826241\tbest: 0.6826241 (357)\ttotal: 11m 24s\tremaining: 20m 26s\n",
            "358:\tlearn: 0.7231087\ttest: 0.6829196\tbest: 0.6829196 (358)\ttotal: 11m 26s\tremaining: 20m 25s\n",
            "359:\tlearn: 0.7231826\ttest: 0.6824764\tbest: 0.6829196 (358)\ttotal: 11m 29s\tremaining: 20m 25s\n",
            "360:\tlearn: 0.7231826\ttest: 0.6821809\tbest: 0.6829196 (358)\ttotal: 11m 31s\tremaining: 20m 23s\n",
            "361:\tlearn: 0.7233304\ttest: 0.6824764\tbest: 0.6829196 (358)\ttotal: 11m 33s\tremaining: 20m 21s\n",
            "362:\tlearn: 0.7235889\ttest: 0.6829196\tbest: 0.6829196 (358)\ttotal: 11m 35s\tremaining: 20m 20s\n",
            "363:\tlearn: 0.7239214\ttest: 0.6835106\tbest: 0.6835106 (363)\ttotal: 11m 38s\tremaining: 20m 19s\n",
            "364:\tlearn: 0.7237736\ttest: 0.6835106\tbest: 0.6835106 (363)\ttotal: 11m 40s\tremaining: 20m 18s\n",
            "365:\tlearn: 0.7240691\ttest: 0.6838061\tbest: 0.6838061 (365)\ttotal: 11m 42s\tremaining: 20m 17s\n",
            "366:\tlearn: 0.7245863\ttest: 0.6835106\tbest: 0.6838061 (365)\ttotal: 11m 45s\tremaining: 20m 16s\n",
            "367:\tlearn: 0.7249926\ttest: 0.6842494\tbest: 0.6842494 (367)\ttotal: 11m 48s\tremaining: 20m 16s\n",
            "368:\tlearn: 0.7254359\ttest: 0.6842494\tbest: 0.6842494 (367)\ttotal: 11m 50s\tremaining: 20m 15s\n",
            "369:\tlearn: 0.7258791\ttest: 0.6845449\tbest: 0.6845449 (369)\ttotal: 11m 53s\tremaining: 20m 14s\n",
            "370:\tlearn: 0.7258791\ttest: 0.6848404\tbest: 0.6848404 (370)\ttotal: 11m 55s\tremaining: 20m 13s\n",
            "371:\tlearn: 0.7258053\ttest: 0.6843972\tbest: 0.6848404 (370)\ttotal: 11m 58s\tremaining: 20m 12s\n",
            "372:\tlearn: 0.7257314\ttest: 0.6836584\tbest: 0.6848404 (370)\ttotal: 12m\tremaining: 20m 11s\n",
            "373:\tlearn: 0.7258791\ttest: 0.6846927\tbest: 0.6848404 (370)\ttotal: 12m 2s\tremaining: 20m 9s\n",
            "374:\tlearn: 0.7260638\ttest: 0.6848404\tbest: 0.6848404 (370)\ttotal: 12m 4s\tremaining: 20m 7s\n",
            "375:\tlearn: 0.7262855\ttest: 0.6852837\tbest: 0.6852837 (375)\ttotal: 12m 7s\tremaining: 20m 6s\n",
            "376:\tlearn: 0.7263963\ttest: 0.6855792\tbest: 0.6855792 (376)\ttotal: 12m 9s\tremaining: 20m 5s\n",
            "377:\tlearn: 0.7268395\ttest: 0.6860225\tbest: 0.6860225 (377)\ttotal: 12m 12s\tremaining: 20m 4s\n",
            "378:\tlearn: 0.7269504\ttest: 0.6861702\tbest: 0.6861702 (378)\ttotal: 12m 14s\tremaining: 20m 3s\n",
            "379:\tlearn: 0.7268395\ttest: 0.6864657\tbest: 0.6864657 (379)\ttotal: 12m 16s\tremaining: 20m 1s\n",
            "380:\tlearn: 0.7270612\ttest: 0.6864657\tbest: 0.6864657 (379)\ttotal: 12m 18s\tremaining: 20m\n",
            "381:\tlearn: 0.7273197\ttest: 0.6863180\tbest: 0.6864657 (379)\ttotal: 12m 21s\tremaining: 19m 59s\n",
            "382:\tlearn: 0.7272828\ttest: 0.6860225\tbest: 0.6864657 (379)\ttotal: 12m 23s\tremaining: 19m 57s\n",
            "383:\tlearn: 0.7275783\ttest: 0.6864657\tbest: 0.6864657 (379)\ttotal: 12m 25s\tremaining: 19m 55s\n",
            "384:\tlearn: 0.7280216\ttest: 0.6861702\tbest: 0.6864657 (379)\ttotal: 12m 27s\tremaining: 19m 54s\n",
            "385:\tlearn: 0.7283540\ttest: 0.6861702\tbest: 0.6864657 (379)\ttotal: 12m 30s\tremaining: 19m 53s\n",
            "386:\tlearn: 0.7282432\ttest: 0.6866135\tbest: 0.6866135 (386)\ttotal: 12m 32s\tremaining: 19m 52s\n",
            "387:\tlearn: 0.7286865\ttest: 0.6870567\tbest: 0.6870567 (387)\ttotal: 12m 34s\tremaining: 19m 50s\n",
            "388:\tlearn: 0.7287973\ttest: 0.6867612\tbest: 0.6870567 (387)\ttotal: 12m 37s\tremaining: 19m 49s\n",
            "389:\tlearn: 0.7291667\ttest: 0.6872045\tbest: 0.6872045 (389)\ttotal: 12m 39s\tremaining: 19m 48s\n",
            "390:\tlearn: 0.7293144\ttest: 0.6872045\tbest: 0.6872045 (389)\ttotal: 12m 42s\tremaining: 19m 46s\n",
            "391:\tlearn: 0.7296469\ttest: 0.6873522\tbest: 0.6873522 (391)\ttotal: 12m 44s\tremaining: 19m 45s\n",
            "392:\tlearn: 0.7299424\ttest: 0.6879433\tbest: 0.6879433 (392)\ttotal: 12m 46s\tremaining: 19m 44s\n",
            "393:\tlearn: 0.7302379\ttest: 0.6885343\tbest: 0.6885343 (393)\ttotal: 12m 48s\tremaining: 19m 42s\n",
            "394:\tlearn: 0.7303487\ttest: 0.6883865\tbest: 0.6885343 (393)\ttotal: 12m 51s\tremaining: 19m 41s\n",
            "395:\tlearn: 0.7305703\ttest: 0.6885343\tbest: 0.6885343 (393)\ttotal: 12m 53s\tremaining: 19m 39s\n",
            "396:\tlearn: 0.7302009\ttest: 0.6886820\tbest: 0.6886820 (396)\ttotal: 12m 55s\tremaining: 19m 37s\n",
            "397:\tlearn: 0.7303487\ttest: 0.6888298\tbest: 0.6888298 (397)\ttotal: 12m 57s\tremaining: 19m 36s\n",
            "398:\tlearn: 0.7307920\ttest: 0.6898641\tbest: 0.6898641 (398)\ttotal: 12m 59s\tremaining: 19m 34s\n",
            "399:\tlearn: 0.7310875\ttest: 0.6903073\tbest: 0.6903073 (399)\ttotal: 13m 2s\tremaining: 19m 33s\n",
            "400:\tlearn: 0.7312722\ttest: 0.6901596\tbest: 0.6903073 (399)\ttotal: 13m 5s\tremaining: 19m 32s\n",
            "401:\tlearn: 0.7314938\ttest: 0.6901596\tbest: 0.6903073 (399)\ttotal: 13m 7s\tremaining: 19m 31s\n",
            "402:\tlearn: 0.7317154\ttest: 0.6904551\tbest: 0.6904551 (402)\ttotal: 13m 10s\tremaining: 19m 30s\n",
            "403:\tlearn: 0.7320848\ttest: 0.6906028\tbest: 0.6906028 (403)\ttotal: 13m 12s\tremaining: 19m 29s\n",
            "404:\tlearn: 0.7322326\ttest: 0.6904551\tbest: 0.6906028 (403)\ttotal: 13m 14s\tremaining: 19m 27s\n",
            "405:\tlearn: 0.7323434\ttest: 0.6906028\tbest: 0.6906028 (403)\ttotal: 13m 17s\tremaining: 19m 26s\n",
            "406:\tlearn: 0.7324173\ttest: 0.6904551\tbest: 0.6906028 (403)\ttotal: 13m 19s\tremaining: 19m 24s\n",
            "407:\tlearn: 0.7325650\ttest: 0.6904551\tbest: 0.6906028 (403)\ttotal: 13m 21s\tremaining: 19m 23s\n",
            "408:\tlearn: 0.7327866\ttest: 0.6908983\tbest: 0.6908983 (408)\ttotal: 13m 23s\tremaining: 19m 21s\n",
            "409:\tlearn: 0.7330083\ttest: 0.6908983\tbest: 0.6908983 (408)\ttotal: 13m 26s\tremaining: 19m 20s\n",
            "410:\tlearn: 0.7331191\ttest: 0.6913416\tbest: 0.6913416 (410)\ttotal: 13m 28s\tremaining: 19m 19s\n",
            "411:\tlearn: 0.7333038\ttest: 0.6913416\tbest: 0.6913416 (410)\ttotal: 13m 31s\tremaining: 19m 17s\n",
            "412:\tlearn: 0.7333777\ttest: 0.6911939\tbest: 0.6913416 (410)\ttotal: 13m 33s\tremaining: 19m 16s\n",
            "413:\tlearn: 0.7337101\ttest: 0.6920804\tbest: 0.6920804 (413)\ttotal: 13m 36s\tremaining: 19m 15s\n",
            "414:\tlearn: 0.7338209\ttest: 0.6919326\tbest: 0.6920804 (413)\ttotal: 13m 38s\tremaining: 19m 13s\n",
            "415:\tlearn: 0.7339317\ttest: 0.6922281\tbest: 0.6922281 (415)\ttotal: 13m 40s\tremaining: 19m 12s\n",
            "416:\tlearn: 0.7341534\ttest: 0.6920804\tbest: 0.6922281 (415)\ttotal: 13m 42s\tremaining: 19m 10s\n",
            "417:\tlearn: 0.7342642\ttest: 0.6919326\tbest: 0.6922281 (415)\ttotal: 13m 45s\tremaining: 19m 9s\n",
            "418:\tlearn: 0.7347444\ttest: 0.6920804\tbest: 0.6922281 (415)\ttotal: 13m 48s\tremaining: 19m 8s\n",
            "419:\tlearn: 0.7350399\ttest: 0.6925236\tbest: 0.6925236 (419)\ttotal: 13m 50s\tremaining: 19m 7s\n",
            "420:\tlearn: 0.7351876\ttest: 0.6925236\tbest: 0.6925236 (419)\ttotal: 13m 53s\tremaining: 19m 5s\n",
            "421:\tlearn: 0.7351876\ttest: 0.6923759\tbest: 0.6925236 (419)\ttotal: 13m 55s\tremaining: 19m 4s\n",
            "422:\tlearn: 0.7355201\ttest: 0.6928191\tbest: 0.6928191 (422)\ttotal: 13m 58s\tremaining: 19m 3s\n",
            "423:\tlearn: 0.7357048\ttest: 0.6931147\tbest: 0.6931147 (423)\ttotal: 14m\tremaining: 19m 1s\n",
            "424:\tlearn: 0.7357048\ttest: 0.6928191\tbest: 0.6931147 (423)\ttotal: 14m 2s\tremaining: 18m 59s\n",
            "425:\tlearn: 0.7359634\ttest: 0.6931147\tbest: 0.6931147 (423)\ttotal: 14m 4s\tremaining: 18m 58s\n",
            "426:\tlearn: 0.7360742\ttest: 0.6935579\tbest: 0.6935579 (426)\ttotal: 14m 7s\tremaining: 18m 56s\n",
            "427:\tlearn: 0.7361480\ttest: 0.6934102\tbest: 0.6935579 (426)\ttotal: 14m 9s\tremaining: 18m 55s\n",
            "428:\tlearn: 0.7362958\ttest: 0.6937057\tbest: 0.6937057 (428)\ttotal: 14m 12s\tremaining: 18m 54s\n",
            "429:\tlearn: 0.7364066\ttest: 0.6945922\tbest: 0.6945922 (429)\ttotal: 14m 14s\tremaining: 18m 52s\n",
            "430:\tlearn: 0.7366652\ttest: 0.6945922\tbest: 0.6945922 (429)\ttotal: 14m 16s\tremaining: 18m 50s\n",
            "431:\tlearn: 0.7367760\ttest: 0.6948877\tbest: 0.6948877 (431)\ttotal: 14m 18s\tremaining: 18m 48s\n",
            "432:\tlearn: 0.7370346\ttest: 0.6948877\tbest: 0.6948877 (431)\ttotal: 14m 20s\tremaining: 18m 46s\n",
            "433:\tlearn: 0.7373301\ttest: 0.6947400\tbest: 0.6948877 (431)\ttotal: 14m 23s\tremaining: 18m 45s\n",
            "434:\tlearn: 0.7374778\ttest: 0.6942967\tbest: 0.6948877 (431)\ttotal: 14m 25s\tremaining: 18m 44s\n",
            "435:\tlearn: 0.7376995\ttest: 0.6951832\tbest: 0.6951832 (435)\ttotal: 14m 28s\tremaining: 18m 43s\n",
            "436:\tlearn: 0.7375148\ttest: 0.6945922\tbest: 0.6951832 (435)\ttotal: 14m 31s\tremaining: 18m 42s\n",
            "437:\tlearn: 0.7378842\ttest: 0.6945922\tbest: 0.6951832 (435)\ttotal: 14m 33s\tremaining: 18m 40s\n",
            "438:\tlearn: 0.7382166\ttest: 0.6950355\tbest: 0.6951832 (435)\ttotal: 14m 35s\tremaining: 18m 39s\n",
            "439:\tlearn: 0.7384382\ttest: 0.6951832\tbest: 0.6951832 (435)\ttotal: 14m 38s\tremaining: 18m 37s\n",
            "440:\tlearn: 0.7385491\ttest: 0.6957742\tbest: 0.6957742 (440)\ttotal: 14m 40s\tremaining: 18m 36s\n",
            "441:\tlearn: 0.7386229\ttest: 0.6954787\tbest: 0.6957742 (440)\ttotal: 14m 42s\tremaining: 18m 34s\n",
            "442:\tlearn: 0.7390293\ttest: 0.6956265\tbest: 0.6957742 (440)\ttotal: 14m 45s\tremaining: 18m 33s\n",
            "443:\tlearn: 0.7389923\ttest: 0.6957742\tbest: 0.6957742 (440)\ttotal: 14m 47s\tremaining: 18m 31s\n",
            "444:\tlearn: 0.7390662\ttest: 0.6957742\tbest: 0.6957742 (440)\ttotal: 14m 49s\tremaining: 18m 29s\n",
            "445:\tlearn: 0.7391770\ttest: 0.6956265\tbest: 0.6957742 (440)\ttotal: 14m 52s\tremaining: 18m 28s\n",
            "446:\tlearn: 0.7394356\ttest: 0.6960697\tbest: 0.6960697 (446)\ttotal: 14m 54s\tremaining: 18m 26s\n",
            "447:\tlearn: 0.7393986\ttest: 0.6963652\tbest: 0.6963652 (447)\ttotal: 14m 56s\tremaining: 18m 24s\n",
            "448:\tlearn: 0.7396572\ttest: 0.6962175\tbest: 0.6963652 (447)\ttotal: 14m 59s\tremaining: 18m 23s\n",
            "449:\tlearn: 0.7399897\ttest: 0.6962175\tbest: 0.6963652 (447)\ttotal: 15m 1s\tremaining: 18m 22s\n",
            "450:\tlearn: 0.7399897\ttest: 0.6965130\tbest: 0.6965130 (450)\ttotal: 15m 4s\tremaining: 18m 20s\n",
            "451:\tlearn: 0.7401005\ttest: 0.6963652\tbest: 0.6965130 (450)\ttotal: 15m 6s\tremaining: 18m 19s\n",
            "452:\tlearn: 0.7399897\ttest: 0.6966608\tbest: 0.6966608 (452)\ttotal: 15m 9s\tremaining: 18m 17s\n",
            "453:\tlearn: 0.7401743\ttest: 0.6962175\tbest: 0.6966608 (452)\ttotal: 15m 11s\tremaining: 18m 15s\n",
            "454:\tlearn: 0.7406915\ttest: 0.6971040\tbest: 0.6971040 (454)\ttotal: 15m 13s\tremaining: 18m 14s\n",
            "455:\tlearn: 0.7408392\ttest: 0.6968085\tbest: 0.6971040 (454)\ttotal: 15m 15s\tremaining: 18m 12s\n",
            "456:\tlearn: 0.7410239\ttest: 0.6968085\tbest: 0.6971040 (454)\ttotal: 15m 17s\tremaining: 18m 10s\n",
            "457:\tlearn: 0.7412825\ttest: 0.6971040\tbest: 0.6971040 (454)\ttotal: 15m 20s\tremaining: 18m 8s\n",
            "458:\tlearn: 0.7414303\ttest: 0.6973995\tbest: 0.6973995 (458)\ttotal: 15m 22s\tremaining: 18m 7s\n",
            "459:\tlearn: 0.7415411\ttest: 0.6973995\tbest: 0.6973995 (458)\ttotal: 15m 24s\tremaining: 18m 5s\n",
            "460:\tlearn: 0.7416150\ttest: 0.6972518\tbest: 0.6973995 (458)\ttotal: 15m 27s\tremaining: 18m 4s\n",
            "461:\tlearn: 0.7420582\ttest: 0.6976950\tbest: 0.6976950 (461)\ttotal: 15m 30s\tremaining: 18m 3s\n",
            "462:\tlearn: 0.7423537\ttest: 0.6976950\tbest: 0.6976950 (461)\ttotal: 15m 32s\tremaining: 18m 1s\n",
            "463:\tlearn: 0.7426862\ttest: 0.6978428\tbest: 0.6978428 (463)\ttotal: 15m 34s\tremaining: 17m 59s\n",
            "464:\tlearn: 0.7428709\ttest: 0.6976950\tbest: 0.6978428 (463)\ttotal: 15m 36s\tremaining: 17m 57s\n",
            "465:\tlearn: 0.7428339\ttest: 0.6979905\tbest: 0.6979905 (465)\ttotal: 15m 38s\tremaining: 17m 55s\n",
            "466:\tlearn: 0.7429817\ttest: 0.6981383\tbest: 0.6981383 (466)\ttotal: 15m 40s\tremaining: 17m 53s\n",
            "467:\tlearn: 0.7428709\ttest: 0.6981383\tbest: 0.6981383 (466)\ttotal: 15m 43s\tremaining: 17m 52s\n",
            "468:\tlearn: 0.7430556\ttest: 0.6979905\tbest: 0.6981383 (466)\ttotal: 15m 45s\tremaining: 17m 50s\n",
            "469:\tlearn: 0.7432402\ttest: 0.6984338\tbest: 0.6984338 (469)\ttotal: 15m 48s\tremaining: 17m 49s\n",
            "470:\tlearn: 0.7433141\ttest: 0.6985816\tbest: 0.6985816 (470)\ttotal: 15m 50s\tremaining: 17m 47s\n",
            "471:\tlearn: 0.7437943\ttest: 0.6985816\tbest: 0.6985816 (470)\ttotal: 15m 53s\tremaining: 17m 46s\n",
            "472:\tlearn: 0.7437943\ttest: 0.6987293\tbest: 0.6987293 (472)\ttotal: 15m 55s\tremaining: 17m 44s\n",
            "473:\tlearn: 0.7439790\ttest: 0.6985816\tbest: 0.6987293 (472)\ttotal: 15m 58s\tremaining: 17m 43s\n",
            "474:\tlearn: 0.7440160\ttest: 0.6987293\tbest: 0.6987293 (472)\ttotal: 16m\tremaining: 17m 41s\n",
            "475:\tlearn: 0.7441637\ttest: 0.6991726\tbest: 0.6991726 (475)\ttotal: 16m 2s\tremaining: 17m 39s\n",
            "476:\tlearn: 0.7443484\ttest: 0.6987293\tbest: 0.6991726 (475)\ttotal: 16m 4s\tremaining: 17m 37s\n",
            "477:\tlearn: 0.7445331\ttest: 0.6988771\tbest: 0.6991726 (475)\ttotal: 16m 7s\tremaining: 17m 36s\n",
            "478:\tlearn: 0.7446070\ttest: 0.6990248\tbest: 0.6991726 (475)\ttotal: 16m 9s\tremaining: 17m 34s\n",
            "479:\tlearn: 0.7448655\ttest: 0.6994681\tbest: 0.6994681 (479)\ttotal: 16m 11s\tremaining: 17m 32s\n",
            "480:\tlearn: 0.7448286\ttest: 0.6996158\tbest: 0.6996158 (480)\ttotal: 16m 13s\tremaining: 17m 30s\n",
            "481:\tlearn: 0.7449764\ttest: 0.7000591\tbest: 0.7000591 (481)\ttotal: 16m 16s\tremaining: 17m 28s\n",
            "482:\tlearn: 0.7452349\ttest: 0.6997636\tbest: 0.7000591 (481)\ttotal: 16m 18s\tremaining: 17m 27s\n",
            "483:\tlearn: 0.7453088\ttest: 0.7000591\tbest: 0.7000591 (481)\ttotal: 16m 20s\tremaining: 17m 25s\n",
            "484:\tlearn: 0.7454196\ttest: 0.7002069\tbest: 0.7002069 (484)\ttotal: 16m 23s\tremaining: 17m 24s\n",
            "485:\tlearn: 0.7455674\ttest: 0.7000591\tbest: 0.7002069 (484)\ttotal: 16m 26s\tremaining: 17m 22s\n",
            "486:\tlearn: 0.7460476\ttest: 0.7000591\tbest: 0.7002069 (484)\ttotal: 16m 28s\tremaining: 17m 21s\n",
            "487:\tlearn: 0.7461584\ttest: 0.7005024\tbest: 0.7005024 (487)\ttotal: 16m 31s\tremaining: 17m 20s\n",
            "488:\tlearn: 0.7462692\ttest: 0.7006501\tbest: 0.7006501 (488)\ttotal: 16m 33s\tremaining: 17m 18s\n",
            "489:\tlearn: 0.7462692\ttest: 0.7005024\tbest: 0.7006501 (488)\ttotal: 16m 36s\tremaining: 17m 17s\n",
            "490:\tlearn: 0.7464908\ttest: 0.7002069\tbest: 0.7006501 (488)\ttotal: 16m 38s\tremaining: 17m 15s\n",
            "491:\tlearn: 0.7466755\ttest: 0.7010934\tbest: 0.7010934 (491)\ttotal: 16m 41s\tremaining: 17m 13s\n",
            "492:\tlearn: 0.7464908\ttest: 0.7010934\tbest: 0.7010934 (491)\ttotal: 16m 43s\tremaining: 17m 12s\n",
            "493:\tlearn: 0.7467494\ttest: 0.7013889\tbest: 0.7013889 (493)\ttotal: 16m 45s\tremaining: 17m 10s\n",
            "494:\tlearn: 0.7467863\ttest: 0.7012411\tbest: 0.7013889 (493)\ttotal: 16m 48s\tremaining: 17m 8s\n",
            "495:\tlearn: 0.7470080\ttest: 0.7016844\tbest: 0.7016844 (495)\ttotal: 16m 50s\tremaining: 17m 6s\n",
            "496:\tlearn: 0.7472665\ttest: 0.7016844\tbest: 0.7016844 (495)\ttotal: 16m 52s\tremaining: 17m 4s\n",
            "497:\tlearn: 0.7474882\ttest: 0.7013889\tbest: 0.7016844 (495)\ttotal: 16m 54s\tremaining: 17m 2s\n",
            "498:\tlearn: 0.7475621\ttest: 0.7015366\tbest: 0.7016844 (495)\ttotal: 16m 57s\tremaining: 17m 1s\n",
            "499:\tlearn: 0.7474512\ttest: 0.7016844\tbest: 0.7016844 (495)\ttotal: 16m 59s\tremaining: 16m 59s\n",
            "500:\tlearn: 0.7478576\ttest: 0.7016844\tbest: 0.7016844 (495)\ttotal: 17m 2s\tremaining: 16m 58s\n",
            "501:\tlearn: 0.7480792\ttest: 0.7015366\tbest: 0.7016844 (495)\ttotal: 17m 4s\tremaining: 16m 56s\n",
            "502:\tlearn: 0.7482270\ttest: 0.7019799\tbest: 0.7019799 (502)\ttotal: 17m 6s\tremaining: 16m 54s\n",
            "503:\tlearn: 0.7483378\ttest: 0.7019799\tbest: 0.7019799 (502)\ttotal: 17m 8s\tremaining: 16m 52s\n",
            "504:\tlearn: 0.7486333\ttest: 0.7022754\tbest: 0.7022754 (504)\ttotal: 17m 11s\tremaining: 16m 50s\n",
            "505:\tlearn: 0.7486333\ttest: 0.7021277\tbest: 0.7022754 (504)\ttotal: 17m 13s\tremaining: 16m 48s\n",
            "506:\tlearn: 0.7487441\ttest: 0.7027187\tbest: 0.7027187 (506)\ttotal: 17m 15s\tremaining: 16m 47s\n",
            "507:\tlearn: 0.7488549\ttest: 0.7025709\tbest: 0.7027187 (506)\ttotal: 17m 18s\tremaining: 16m 45s\n",
            "508:\tlearn: 0.7490396\ttest: 0.7024232\tbest: 0.7027187 (506)\ttotal: 17m 20s\tremaining: 16m 43s\n",
            "509:\tlearn: 0.7490765\ttest: 0.7025709\tbest: 0.7027187 (506)\ttotal: 17m 22s\tremaining: 16m 41s\n",
            "510:\tlearn: 0.7491135\ttest: 0.7024232\tbest: 0.7027187 (506)\ttotal: 17m 24s\tremaining: 16m 39s\n",
            "511:\tlearn: 0.7493720\ttest: 0.7022754\tbest: 0.7027187 (506)\ttotal: 17m 27s\tremaining: 16m 38s\n",
            "512:\tlearn: 0.7494090\ttest: 0.7024232\tbest: 0.7027187 (506)\ttotal: 17m 29s\tremaining: 16m 36s\n",
            "513:\tlearn: 0.7500000\ttest: 0.7025709\tbest: 0.7027187 (506)\ttotal: 17m 32s\tremaining: 16m 34s\n",
            "514:\tlearn: 0.7499631\ttest: 0.7022754\tbest: 0.7027187 (506)\ttotal: 17m 34s\tremaining: 16m 33s\n",
            "515:\tlearn: 0.7501847\ttest: 0.7024232\tbest: 0.7027187 (506)\ttotal: 17m 37s\tremaining: 16m 31s\n",
            "516:\tlearn: 0.7504802\ttest: 0.7025709\tbest: 0.7027187 (506)\ttotal: 17m 39s\tremaining: 16m 29s\n",
            "Stopped by overfitting detector  (10 iterations wait)\n",
            "\n",
            "bestTest = 0.7027186761\n",
            "bestIteration = 506\n",
            "\n",
            "Shrink model to first 507 iterations.\n"
          ]
        }
      ],
      "source": [
        "def objective_CBC(trial):\n",
        "    \n",
        "    params = {\n",
        "        \"learning_rate\": trial.suggest_categorical(\"learning_rate\", [0.001,0.01,0.1,0.5]),\n",
        "        \"colsample_bylevel\": trial.suggest_float(\"colsample_bylevel\", 0.01, 0.1),\n",
        "        \"boosting_type\": trial.suggest_categorical(\"boosting_type\", [\"Ordered\", \"Plain\"])\n",
        "    }\n",
        "    \n",
        "    model = CatBoostClassifier(eval_metric='Accuracy', early_stopping_rounds=10, random_seed=42, **params)\n",
        "    model.fit(Xtrain_s, ytrain_s, eval_set=[(Xval, yval)])\n",
        "    preds = model.predict(Xtest)\n",
        "\n",
        "    return accuracy_score(ytest,preds)\n",
        "\n",
        "study_CBC = optuna.create_study(direction=\"maximize\")\n",
        "study_CBC.optimize(objective_CBC, n_trials=50, timeout=600)"
      ]
    },
    {
      "cell_type": "markdown",
      "id": "56fa59a8",
      "metadata": {},
      "source": [
        "aml\n",
        "----"
      ]
    },
    {
      "cell_type": "code",
      "execution_count": 68,
      "id": "9d3ee73b",
      "metadata": {},
      "outputs": [
        {
          "name": "stdout",
          "output_type": "stream",
          "text": [
            "'nlp' extra dependecy package 'gensim' isn't installed. Look at README.md in repo 'LightAutoML' for installation instructions.\n",
            "'nlp' extra dependecy package 'nltk' isn't installed. Look at README.md in repo 'LightAutoML' for installation instructions.\n",
            "'nlp' extra dependecy package 'gensim' isn't installed. Look at README.md in repo 'LightAutoML' for installation instructions.\n",
            "'nlp' extra dependecy package 'nltk' isn't installed. Look at README.md in repo 'LightAutoML' for installation instructions.\n"
          ]
        },
        {
          "name": "stderr",
          "output_type": "stream",
          "text": [
            "C:\\Users\\ESC\\AppData\\Roaming\\Python\\Python311\\site-packages\\lightautoml\\text\\tokenizer.py:21: UserWarning: 'nltk' - package isn't installed\n",
            "  warnings.warn(\"'nltk' - package isn't installed\")\n",
            "C:\\Users\\ESC\\AppData\\Roaming\\Python\\Python311\\site-packages\\lightautoml\\transformers\\text.py:22: UserWarning: 'gensim' - package isn't installed\n",
            "  warnings.warn(\"'gensim' - package isn't installed\")\n",
            "C:\\Users\\ESC\\AppData\\Roaming\\Python\\Python311\\site-packages\\lightautoml\\ml_algo\\dl_model.py:42: UserWarning: 'transformers' - package isn't installed\n",
            "  warnings.warn(\"'transformers' - package isn't installed\")\n"
          ]
        }
      ],
      "source": [
        "from lightautoml.automl.base import AutoML\n",
        "from lightautoml.tasks import Task\n",
        "\n",
        "from lightautoml.pipelines.features.lgb_pipeline import LGBSimpleFeatures\n",
        "from lightautoml.ml_algo.boost_lgbm import BoostLGBM\n",
        "from lightautoml.ml_algo.boost_cb import BoostCB\n",
        "from lightautoml.ml_algo.tuning.optuna import OptunaTuner\n",
        "from lightautoml.pipelines.ml.base import MLPipeline\n",
        "\n",
        "from lightautoml.reader.base import PandasToPandasReader"
      ]
    },
    {
      "cell_type": "code",
      "execution_count": 69,
      "id": "fe5b6226",
      "metadata": {},
      "outputs": [],
      "source": [
        "train_data = pd.DataFrame(Xtrain_s)\n",
        "train_data['target'] = ytrain_s\n",
        "\n",
        "test_data = pd.DataFrame(Xtest)\n",
        "test_data['target'] = ytest\n",
        "\n",
        "train_data.columns = [str(i) for i in train_data.columns]\n",
        "test_data.columns = [str(i) for i in test_data.columns]\n",
        "\n",
        "N_THREADS = 4 # threads cnt for lgbm and linear models\n",
        "N_FOLDS = 5 # folds cnt for AutoML\n",
        "RANDOM_STATE = 42 # fixed random state for various reasons\n",
        "TARGET_NAME = 'target'\n",
        "\n",
        "TIMEOUT = 3600\n",
        "task = Task('multiclass')\n",
        "roles = {\n",
        "    'target': TARGET_NAME\n",
        "}"
      ]
    },
    {
      "cell_type": "code",
      "execution_count": null,
      "id": "1a67675a",
      "metadata": {},
      "outputs": [],
      "source": [
        "\n",
        "reader = PandasToPandasReader(task, cv=N_FOLDS, random_state=RANDOM_STATE)\n",
        "\n",
        "pipe = LGBSimpleFeatures()\n",
        "\n",
        "params_tuner1 = OptunaTuner(n_trials=20, timeout=30)\n",
        "\n",
        "model1 = BoostLGBM(\n",
        "    default_params={'learning_rate':0.05, 'num_leaves': 128, 'seed': RANDOM_STATE, 'num_threads': N_THREADS}\n",
        ")\n",
        "model2 = BoostLGBM(\n",
        "    default_params={'learning_rate':0.02, 'num_leaves': 64, 'seed': RANDOM_STATE, 'num_threads': N_THREADS}\n",
        ")\n",
        "\n",
        "pipeline_lvl1 = MLPipeline([\n",
        "    model1,\n",
        "    model2],\n",
        "    pre_selection=None, \n",
        "    features_pipeline=pipe,\n",
        "    post_selection=None\n",
        ")\n",
        "\n",
        "pipe1 = LGBSimpleFeatures()\n",
        "model3 = BoostCB()\n",
        "\n",
        "pipeline_lvl2 = MLPipeline(\n",
        "    [(model3, params_tuner1)], \n",
        "    pre_selection=None, \n",
        "    features_pipeline=pipe1,\n",
        "    post_selection=None\n",
        ")\n",
        "\n",
        "automl = AutoML(reader, [\n",
        "    [pipeline_lvl1],\n",
        "    [pipeline_lvl2],], \n",
        "    skip_conn=False)\n",
        "\n",
        "\n",
        "oof_pred3 = automl.fit_predict(train_data, roles=roles)\n",
        "test_pred3 = automl.predict(test_data)\n",
        "\n",
        "result_test = np.argmax(test_pred3.data, axis=1)\n",
        "result_train = np.argmax(oof_pred3.data, axis=1)\n",
        "\n",
        "accuracy_train = accuracy_score(train_data[TARGET_NAME].values, result_train)\n",
        "accuracy_test = accuracy_score(test_data[TARGET_NAME].values, result_test)"
      ]
    },
    {
      "cell_type": "code",
      "execution_count": 98,
      "id": "d35e27f4",
      "metadata": {},
      "outputs": [
        {
          "name": "stdout",
          "output_type": "stream",
          "text": [
            "train score: 0.763815011820331\n",
            "test score: 0.7743085106382979\n"
          ]
        }
      ],
      "source": [
        "print(f'train score: {accuracy_train}')\n",
        "print(f'test score: {accuracy_test}')"
      ]
    },
    {
      "cell_type": "markdown",
      "id": "315fd6fa",
      "metadata": {},
      "source": [
        "WORST PREDICTABLE SYMBOLS:\n",
        "-----"
      ]
    },
    {
      "cell_type": "code",
      "execution_count": 108,
      "id": "1a0a600e",
      "metadata": {},
      "outputs": [],
      "source": [
        "diff_pred = pd.DataFrame({'real':test_data[TARGET_NAME].values, 'predict': result_test})"
      ]
    },
    {
      "cell_type": "code",
      "execution_count": 111,
      "id": "15d51efd",
      "metadata": {},
      "outputs": [],
      "source": [
        "fails = diff_pred[diff_pred['real']!=diff_pred['predict']]['real']"
      ]
    },
    {
      "cell_type": "code",
      "execution_count": 121,
      "id": "854d211f",
      "metadata": {},
      "outputs": [
        {
          "data": {
            "text/plain": [
              "[44, 41, 21, 15, 18, 24, 1, 0, 40, 34]"
            ]
          },
          "execution_count": 121,
          "metadata": {},
          "output_type": "execute_result"
        }
      ],
      "source": [
        "fails.value_counts().head(10).index.tolist()"
      ]
    },
    {
      "cell_type": "code",
      "execution_count": 128,
      "id": "164f29fe",
      "metadata": {},
      "outputs": [
        {
          "name": "stdout",
          "output_type": "stream",
          "text": [
            "the worst 10 predicts made for the following symbols: ['q', 'g', 'L', 'F', 'I', 'O', '1', '0', 'f', 'Y']\n"
          ]
        }
      ],
      "source": [
        "print(f'the worst 10 predicts made for the following symbols:\\\n",
        " {[labelz[i] for i in fails.value_counts().head(10).index.tolist()]}')"
      ]
    },
    {
      "cell_type": "markdown",
      "id": "b2821495",
      "metadata": {},
      "source": []
    },
    {
      "cell_type": "markdown",
      "id": "c31c2967",
      "metadata": {},
      "source": [
        "to_pkl\n",
        "----"
      ]
    },
    {
      "cell_type": "code",
      "execution_count": 40,
      "id": "e66ef38a",
      "metadata": {
        "id": "e66ef38a"
      },
      "outputs": [],
      "source": [
        "with open(os.path.join('myapp', 'model_lgbm.pkl'),'wb') as f:\n",
        "    pickle.dump(LGBMC, f)"
      ]
    },
    {
      "cell_type": "code",
      "execution_count": null,
      "id": "268580fb",
      "metadata": {},
      "outputs": [],
      "source": []
    }
  ],
  "metadata": {
    "colab": {
      "provenance": []
    },
    "kernelspec": {
      "display_name": "Python 3 (ipykernel)",
      "language": "python",
      "name": "python3"
    },
    "language_info": {
      "codemirror_mode": {
        "name": "ipython",
        "version": 3
      },
      "file_extension": ".py",
      "mimetype": "text/x-python",
      "name": "python",
      "nbconvert_exporter": "python",
      "pygments_lexer": "ipython3",
      "version": "3.11.9"
    }
  },
  "nbformat": 4,
  "nbformat_minor": 5
}
